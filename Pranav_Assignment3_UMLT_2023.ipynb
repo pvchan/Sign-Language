{
 "cells": [
  {
   "cell_type": "markdown",
   "id": "bd80fc40",
   "metadata": {},
   "source": [
    "# Using Machine Learning Tools 2023, Assignment 3\n",
    "\n",
    "## Sign Language Image Classification using Deep Learning"
   ]
  },
  {
   "cell_type": "markdown",
   "id": "ac03b888",
   "metadata": {},
   "source": [
    "## Overview\n",
    "\n",
    "In this assignment you will implement different deep learning networks to classify images of hands in poses that correspond to letters in American Sign Language. The dataset is contained in the assignment zip file, along with some images and a text file describing the dataset. It is similar in many ways to other MNIST datasets.\n",
    "\n",
    "The main aims of the assignment are:\n",
    "\n",
    " - To implement and train different types of deep learning network;\n",
    " \n",
    " - To systematically optimise the architecture and parameters of the networks;\n",
    "  \n",
    " - To explore over-fitting and know what appropriate actions to take in these cases.\n",
    " \n",
    "\n",
    "It is the intention that this assignment will take you through the process of implementing and optimising deep learning approaches. The way that you work is more important than the results for this assignment, as what is most crucial for you to learn is how to take a dataset, understand the problem, write appropriate code, optimize performance and present results. A good understanding of the different aspects of this process and how to put them together well (which will not always be the same, since different problems come with different constraints or difficulties) is the key to being able to effectively use deep learning techniques in practice.\n",
    "\n",
    "This assignment relates to the following ACS CBOK areas: abstraction, design, hardware and software, data and information, HCI and programming."
   ]
  },
  {
   "cell_type": "markdown",
   "id": "a7a48fa8",
   "metadata": {},
   "source": [
    "## Scenario\n",
    "\n",
    "A client is interested in having you (or rather the company that you work for) investigate whether it is possible to develop an app that would enable American sign language to be translated for people that do not sign, or those that sign in different languages/styles. They have provided you with a labelled data of images related to signs (hand positions) that represent individual letters in order to do a preliminary test of feasibility.\n",
    "\n",
    "Your manager has asked you to do this feasibility assessment, but subject to a constraint on the computational facilities available.  More specifically, you are asked to do **no more than 50 training runs in total** (including all models and hyperparameter settings that you consider).  \n",
    "\n",
    "In addition, you are told to **create a validation set and any necessary test sets using _only_ the supplied testing dataset.** It is unusual to do this, but here the training set contains a lot of non-independent, augmented images and it is important that the validation images must be totally independent of the training data and not made from augmented instances of training images.\n",
    "\n",
    "The clients have asked to be informed about the following:\n",
    " - **unbiased accuracy** estimate of a deep learning model (since DL models are fast when deployed)\n",
    " - the letter with the lowest individual accuracy\n",
    " - the most common error (of one letter being incorrectly labelled as another)\n",
    " \n",
    "Your manager has asked you to create a jupyter notebook that shows the following:\n",
    " - loading the data, checking it, fixing any problems, and displaying a sample\n",
    " - training and optimising both **densely connected** *and* **CNN** style models\n",
    " - finding the best one, subject to a rapid turn-around and corresponding limit of 50 training runs in total\n",
    " - reporting clearly what networks you have tried, the method you used to optimise them, the associated learning curves, their summary performance and selection process to pick the best model\n",
    "     - this should be clear enough that another employee, with your skillset, should be able to take over from you and understand your methods\n",
    " - results from the model that is selected as the best, showing the information that the clients have requested\n",
    " - a statistical test between the best and second-best models, to see if there is any significant difference in performance (overall accuracy)\n",
    " - it is hoped that the accuracy will exceed 96% overall and better than 90% for every individual letter, and you are asked to:\n",
    "     - report the overall accuracy\n",
    "     - report the accuracy for each individual letter\n",
    "     - write a short recommendation regarding how likely you think it is to achieve these goals either with the current model or by continuing to do a small amount of model development/optimisation\n"
   ]
  },
  {
   "cell_type": "markdown",
   "id": "e4e339b4",
   "metadata": {},
   "source": [
    "## Guide to Assessment\n",
    "\n",
    "This assignment is much more free-form than others in order to test your ability to run a full analysis like this one from beginning to end, using the correct procedures. So you should use a methodical approach, as a large portion of the marks are associated with the decisions that you take and the approach that you use.  There are no marks associated with the performance - just report what you achieve, as high performance does not get better marks - to get good marks you need to use the right steps, as you've used in other assignments and workshops.\n",
    "\n",
    "Make sure that you follow the instructions found in the scenario above, as this is what will be marked.  And be careful to do things in a way that gives you an *unbiased* result.\n",
    "\n",
    "The notebook that you submit should be similar to those in the other assignments, where it is important to clearly structure your outputs and code so that it could be understood by your manager or your co-worker - or, even more importantly, the person marking it! This does not require much writing, beyond the code, comments and the small amount that you've seen in previous assignments.  Do not write long paragraphs to explain every detail of everything you do - it is not that kind of report and longer is definitely not better.  Just make your code clear, your outputs easy to understand (short summaries often help here), and include a few small markdown cells that describe or summarise things when necessary.\n",
    "\n",
    "Marks for the assignment will be determined according to the general rubric that you can find on MyUni, with a breakdown into sections as follows:\n",
    " - 10%: Loading, investigating, manipulating and displaying data\n",
    " - 20%: Initial model successfully trained (and acting as a baseline)\n",
    " - 45%: Optimisation of an appropriate set of models in an appropriate way (given the constraint of 50 training runs)\n",
    " - 25%: Comparison of models, selection of the best two and reporting of final results\n",
    "\n",
    "Remember that most marks will be for the **steps you take**, rather than the achievement of any particular results. There will also be marks for showing appropriate understanding of the results that you present.  \n",
    "\n",
    "What you need to do this assignment can all be found in the first 10 weeks of workshops, lectures and also the previous two assignments. The one exception to this is the statistical test, which will be covered in week 11."
   ]
  },
  {
   "cell_type": "markdown",
   "id": "e510d108",
   "metadata": {},
   "source": [
    "## Final Instructions\n",
    "\n",
    "While you are free to use whatever IDE you like to develop your code, your submission should be formatted as a Jupyter notebook that interleaves Python code with output, commentary and analysis. \n",
    "- Your code must use the current stable versions of python libraries, not outdated versions.\n",
    "- All data processing must be done within the notebook after calling appropriate load functions.\n",
    "- Comment your code, so that its purpose is clear to the reader!\n",
    "- In the submission file name, do not use spaces or special characters.\n",
    "\n",
    "The marks for this assignment are mainly associated with making the right choices and executing the workflow correctly and efficiently. Make sure you have clean, readable code as well as producing outputs, since your coding will also count towards the marks (however, excessive commenting is discouraged and will lose marks, so aim for a modest, well-chosen amount of comments and text in outputs).\n",
    "\n",
    "This assignment can be solved using methods from sklearn, pandas, matplotlib and keras, as presented in the workshops. Other high-level libraries should not be used, even though they might have nice functionality such as automated hyperparameter or architecture search/tuning/optimisation. For the deep learning parts please restrict yourself to the library calls used in workshops 7-10 or ones that are very similar to these. You are expected to search and carefully read the documentation for functions that you use, to ensure you are using them correctly.\n",
    "\n",
    "As ususal, feel free to use code from the workshops as a base for this assignment but be aware that they will normally not do *exactly* what you want (code examples rarely do!) and so you will need to make suitable modifications.\n",
    "\n",
    "The assignment is worth 35% of your overall mark for the course.\n",
    "\n",
    "Mark Jenkinson  \n",
    "May 2022"
   ]
  },
  {
   "cell_type": "markdown",
   "id": "83ec1c39",
   "metadata": {},
   "source": [
    "# 10%: Loading, investigating, manipulating and displaying data"
   ]
  },
  {
   "cell_type": "code",
   "execution_count": 1,
   "id": "15daf294",
   "metadata": {},
   "outputs": [
    {
     "name": "stderr",
     "output_type": "stream",
     "text": [
      "2023-08-17 19:16:11.437138: I tensorflow/core/platform/cpu_feature_guard.cc:182] This TensorFlow binary is optimized to use available CPU instructions in performance-critical operations.\n",
      "To enable the following instructions: AVX2 FMA, in other operations, rebuild TensorFlow with the appropriate compiler flags.\n"
     ]
    }
   ],
   "source": [
    "# Importing required libraries\n",
    "\n",
    "from sklearn.preprocessing import LabelBinarizer\n",
    "from tensorflow import keras\n",
    "from keras.utils import plot_model\n",
    "\n",
    "import tensorflow as tf\n",
    "import numpy as np\n",
    "import pandas as pd\n",
    "import matplotlib.pyplot as plt\n",
    "import pickle"
   ]
  },
  {
   "cell_type": "code",
   "execution_count": 2,
   "id": "dafa44b9",
   "metadata": {},
   "outputs": [],
   "source": [
    "# loading the training data (X+y)\n",
    "train_df = pd.read_csv('sign_mnist_train.csv')\n",
    "\n",
    "# Removing the row with the label 200\n",
    "train_df = train_df[train_df['label'] != 200]"
   ]
  },
  {
   "cell_type": "code",
   "execution_count": 3,
   "id": "d7669304",
   "metadata": {},
   "outputs": [],
   "source": [
    "train_df = train_df.sample(frac=1, random_state=42) # Shuffiling the entire dataset"
   ]
  },
  {
   "cell_type": "code",
   "execution_count": 4,
   "id": "8269e216",
   "metadata": {},
   "outputs": [],
   "source": [
    "X, y = train_df.drop('label', axis=1), train_df['label'] # Split the dataset into X, y"
   ]
  },
  {
   "cell_type": "code",
   "execution_count": 5,
   "id": "8c2b3aa3",
   "metadata": {},
   "outputs": [
    {
     "data": {
      "text/plain": [
       "((27454, 784), (27454,))"
      ]
     },
     "execution_count": 5,
     "metadata": {},
     "output_type": "execute_result"
    }
   ],
   "source": [
    "X.shape, y.shape"
   ]
  },
  {
   "cell_type": "code",
   "execution_count": 6,
   "id": "da58cd49",
   "metadata": {},
   "outputs": [
    {
     "data": {
      "text/plain": [
       "(array([dtype('int64')], dtype=object), dtype('int64'))"
      ]
     },
     "execution_count": 6,
     "metadata": {},
     "output_type": "execute_result"
    }
   ],
   "source": [
    "np.unique(X.dtypes), y.dtype"
   ]
  },
  {
   "cell_type": "code",
   "execution_count": 7,
   "id": "22b62d7a",
   "metadata": {},
   "outputs": [],
   "source": [
    "label_binarizer = LabelBinarizer() # Binarize labels in a one-vs-all fashion (return one-hot encoded vectors)\n",
    "y = label_binarizer.fit_transform(y)"
   ]
  },
  {
   "cell_type": "code",
   "execution_count": 8,
   "id": "3cc4add2",
   "metadata": {},
   "outputs": [],
   "source": [
    "X = X/255.0 # Normalizing the training data and converting the data type to float"
   ]
  },
  {
   "cell_type": "code",
   "execution_count": 9,
   "id": "d6700a24",
   "metadata": {},
   "outputs": [
    {
     "data": {
      "text/plain": [
       "array([dtype('float64')], dtype=object)"
      ]
     },
     "execution_count": 9,
     "metadata": {},
     "output_type": "execute_result"
    }
   ],
   "source": [
    "np.unique(X.dtypes)"
   ]
  },
  {
   "cell_type": "code",
   "execution_count": 10,
   "id": "c9872eca",
   "metadata": {},
   "outputs": [],
   "source": [
    "# Converting the 1-D array of 784 pixels to (28, 28, 1) Image\n",
    "# (28, 28) represents the spatial dimensions of the image & 1 specifies that the image is grayscale\n",
    "X = tf.reshape(X, [-1, 28, 28, 1])"
   ]
  },
  {
   "cell_type": "code",
   "execution_count": 11,
   "id": "c6a7f19f",
   "metadata": {},
   "outputs": [
    {
     "data": {
      "text/plain": [
       "(TensorShape([27454, 28, 28, 1]), (27454, 24))"
      ]
     },
     "execution_count": 11,
     "metadata": {},
     "output_type": "execute_result"
    }
   ],
   "source": [
    "X.shape, y.shape"
   ]
  },
  {
   "cell_type": "code",
   "execution_count": 12,
   "id": "f950e21c",
   "metadata": {},
   "outputs": [],
   "source": [
    "# Generating a validation set\n",
    "\n",
    "X_train, X_valid = X[:25000], X[25000:]\n",
    "y_train, y_valid = y[:25000], y[25000:]"
   ]
  },
  {
   "cell_type": "code",
   "execution_count": 13,
   "id": "a51e4a80",
   "metadata": {},
   "outputs": [
    {
     "data": {
      "text/plain": [
       "tf.float64"
      ]
     },
     "execution_count": 13,
     "metadata": {},
     "output_type": "execute_result"
    }
   ],
   "source": [
    "X_train[0].dtype"
   ]
  },
  {
   "cell_type": "code",
   "execution_count": 14,
   "id": "f567ca9b",
   "metadata": {},
   "outputs": [
    {
     "data": {
      "text/plain": [
       "TensorShape([28, 28, 1])"
      ]
     },
     "execution_count": 14,
     "metadata": {},
     "output_type": "execute_result"
    }
   ],
   "source": [
    "X_train[0].shape"
   ]
  },
  {
   "cell_type": "code",
   "execution_count": 15,
   "id": "d2533d22",
   "metadata": {},
   "outputs": [
    {
     "data": {
      "text/plain": [
       "(<matplotlib.image.AxesImage at 0x13c8ebe10>,\n",
       " array([0, 0, 0, 0, 0, 0, 1, 0, 0, 0, 0, 0, 0, 0, 0, 0, 0, 0, 0, 0, 0, 0,\n",
       "        0, 0]))"
      ]
     },
     "execution_count": 15,
     "metadata": {},
     "output_type": "execute_result"
    },
    {
     "data": {
      "image/png": "[encoded data removed]",
      "text/plain": [
       "<Figure size 640x480 with 1 Axes>"
      ]
     },
     "metadata": {},
     "output_type": "display_data"
    }
   ],
   "source": [
    "plt.imshow(X[1], cmap='gray'), y[0]"
   ]
  },
  {
   "cell_type": "code",
   "execution_count": 16,
   "id": "84b546dc",
   "metadata": {},
   "outputs": [
    {
     "data": {
      "image/png": "[encoded data removed]",
      "text/plain": [
       "<Figure size 800x800 with 9 Axes>"
      ]
     },
     "metadata": {},
     "output_type": "display_data"
    }
   ],
   "source": [
    "fig, axes = plt.subplots(3, 3, figsize=(8, 8))\n",
    "for i, ax in enumerate(axes.flat):\n",
    "    ax.imshow(tf.squeeze(X[i]), cmap='gray')\n",
    "    ax.set_title(f\"Label: {y[i].argmax()}\")\n",
    "    ax.axis('off')\n",
    "plt.show()"
   ]
  },
  {
   "cell_type": "code",
   "execution_count": 17,
   "id": "1e0d9870",
   "metadata": {},
   "outputs": [
    {
     "data": {
      "text/html": [
       "<div>\n",
       "<style scoped>\n",
       "    .dataframe tbody tr th:only-of-type {\n",
       "        vertical-align: middle;\n",
       "    }\n",
       "\n",
       "    .dataframe tbody tr th {\n",
       "        vertical-align: top;\n",
       "    }\n",
       "\n",
       "    .dataframe thead th {\n",
       "        text-align: right;\n",
       "    }\n",
       "</style>\n",
       "<table border=\"1\" class=\"dataframe\">\n",
       "  <thead>\n",
       "    <tr style=\"text-align: right;\">\n",
       "      <th></th>\n",
       "      <th>label</th>\n",
       "      <th>pixel1</th>\n",
       "      <th>pixel2</th>\n",
       "      <th>pixel3</th>\n",
       "      <th>pixel4</th>\n",
       "      <th>pixel5</th>\n",
       "      <th>pixel6</th>\n",
       "      <th>pixel7</th>\n",
       "      <th>pixel8</th>\n",
       "      <th>pixel9</th>\n",
       "      <th>...</th>\n",
       "      <th>pixel775</th>\n",
       "      <th>pixel776</th>\n",
       "      <th>pixel777</th>\n",
       "      <th>pixel778</th>\n",
       "      <th>pixel779</th>\n",
       "      <th>pixel780</th>\n",
       "      <th>pixel781</th>\n",
       "      <th>pixel782</th>\n",
       "      <th>pixel783</th>\n",
       "      <th>pixel784</th>\n",
       "    </tr>\n",
       "  </thead>\n",
       "  <tbody>\n",
       "    <tr>\n",
       "      <th>count</th>\n",
       "      <td>27454.000000</td>\n",
       "      <td>27454.000000</td>\n",
       "      <td>27454.000000</td>\n",
       "      <td>27454.000000</td>\n",
       "      <td>27454.000000</td>\n",
       "      <td>27454.000000</td>\n",
       "      <td>27454.000000</td>\n",
       "      <td>27454.000000</td>\n",
       "      <td>27454.000000</td>\n",
       "      <td>27454.000000</td>\n",
       "      <td>...</td>\n",
       "      <td>27454.000000</td>\n",
       "      <td>27454.000000</td>\n",
       "      <td>27454.000000</td>\n",
       "      <td>27454.000000</td>\n",
       "      <td>27454.000000</td>\n",
       "      <td>27454.000000</td>\n",
       "      <td>27454.000000</td>\n",
       "      <td>27454.000000</td>\n",
       "      <td>27454.000000</td>\n",
       "      <td>27454.000000</td>\n",
       "    </tr>\n",
       "    <tr>\n",
       "      <th>mean</th>\n",
       "      <td>12.318533</td>\n",
       "      <td>145.420267</td>\n",
       "      <td>148.501129</td>\n",
       "      <td>151.248525</td>\n",
       "      <td>153.547316</td>\n",
       "      <td>156.211700</td>\n",
       "      <td>158.412035</td>\n",
       "      <td>160.472937</td>\n",
       "      <td>162.340460</td>\n",
       "      <td>163.955526</td>\n",
       "      <td>...</td>\n",
       "      <td>141.107234</td>\n",
       "      <td>147.495665</td>\n",
       "      <td>153.324179</td>\n",
       "      <td>159.124135</td>\n",
       "      <td>161.968092</td>\n",
       "      <td>162.735558</td>\n",
       "      <td>162.904968</td>\n",
       "      <td>161.965251</td>\n",
       "      <td>161.136665</td>\n",
       "      <td>159.823450</td>\n",
       "    </tr>\n",
       "    <tr>\n",
       "      <th>std</th>\n",
       "      <td>7.287537</td>\n",
       "      <td>41.359046</td>\n",
       "      <td>39.942628</td>\n",
       "      <td>39.056766</td>\n",
       "      <td>38.595731</td>\n",
       "      <td>37.111598</td>\n",
       "      <td>36.126006</td>\n",
       "      <td>35.016790</td>\n",
       "      <td>33.662365</td>\n",
       "      <td>32.651980</td>\n",
       "      <td>...</td>\n",
       "      <td>63.751144</td>\n",
       "      <td>65.514087</td>\n",
       "      <td>64.428021</td>\n",
       "      <td>63.709358</td>\n",
       "      <td>63.739183</td>\n",
       "      <td>63.444883</td>\n",
       "      <td>63.510071</td>\n",
       "      <td>63.299560</td>\n",
       "      <td>63.611245</td>\n",
       "      <td>64.397669</td>\n",
       "    </tr>\n",
       "    <tr>\n",
       "      <th>min</th>\n",
       "      <td>0.000000</td>\n",
       "      <td>0.000000</td>\n",
       "      <td>0.000000</td>\n",
       "      <td>0.000000</td>\n",
       "      <td>0.000000</td>\n",
       "      <td>0.000000</td>\n",
       "      <td>0.000000</td>\n",
       "      <td>0.000000</td>\n",
       "      <td>0.000000</td>\n",
       "      <td>0.000000</td>\n",
       "      <td>...</td>\n",
       "      <td>0.000000</td>\n",
       "      <td>0.000000</td>\n",
       "      <td>0.000000</td>\n",
       "      <td>0.000000</td>\n",
       "      <td>0.000000</td>\n",
       "      <td>0.000000</td>\n",
       "      <td>0.000000</td>\n",
       "      <td>0.000000</td>\n",
       "      <td>0.000000</td>\n",
       "      <td>0.000000</td>\n",
       "    </tr>\n",
       "    <tr>\n",
       "      <th>25%</th>\n",
       "      <td>6.000000</td>\n",
       "      <td>121.000000</td>\n",
       "      <td>126.000000</td>\n",
       "      <td>130.000000</td>\n",
       "      <td>133.000000</td>\n",
       "      <td>137.000000</td>\n",
       "      <td>140.000000</td>\n",
       "      <td>142.000000</td>\n",
       "      <td>144.000000</td>\n",
       "      <td>146.000000</td>\n",
       "      <td>...</td>\n",
       "      <td>92.000000</td>\n",
       "      <td>96.000000</td>\n",
       "      <td>103.000000</td>\n",
       "      <td>112.000000</td>\n",
       "      <td>120.000000</td>\n",
       "      <td>125.000000</td>\n",
       "      <td>128.000000</td>\n",
       "      <td>128.000000</td>\n",
       "      <td>128.000000</td>\n",
       "      <td>125.250000</td>\n",
       "    </tr>\n",
       "    <tr>\n",
       "      <th>50%</th>\n",
       "      <td>13.000000</td>\n",
       "      <td>150.000000</td>\n",
       "      <td>153.000000</td>\n",
       "      <td>156.000000</td>\n",
       "      <td>158.000000</td>\n",
       "      <td>160.000000</td>\n",
       "      <td>162.000000</td>\n",
       "      <td>164.000000</td>\n",
       "      <td>165.000000</td>\n",
       "      <td>166.000000</td>\n",
       "      <td>...</td>\n",
       "      <td>144.000000</td>\n",
       "      <td>162.000000</td>\n",
       "      <td>172.000000</td>\n",
       "      <td>180.000000</td>\n",
       "      <td>183.000000</td>\n",
       "      <td>184.000000</td>\n",
       "      <td>184.000000</td>\n",
       "      <td>182.000000</td>\n",
       "      <td>182.000000</td>\n",
       "      <td>182.000000</td>\n",
       "    </tr>\n",
       "    <tr>\n",
       "      <th>75%</th>\n",
       "      <td>19.000000</td>\n",
       "      <td>174.000000</td>\n",
       "      <td>176.000000</td>\n",
       "      <td>178.000000</td>\n",
       "      <td>179.000000</td>\n",
       "      <td>181.000000</td>\n",
       "      <td>182.000000</td>\n",
       "      <td>183.000000</td>\n",
       "      <td>184.000000</td>\n",
       "      <td>185.000000</td>\n",
       "      <td>...</td>\n",
       "      <td>196.000000</td>\n",
       "      <td>202.000000</td>\n",
       "      <td>205.000000</td>\n",
       "      <td>207.000000</td>\n",
       "      <td>208.000000</td>\n",
       "      <td>207.000000</td>\n",
       "      <td>207.000000</td>\n",
       "      <td>206.000000</td>\n",
       "      <td>204.000000</td>\n",
       "      <td>204.000000</td>\n",
       "    </tr>\n",
       "    <tr>\n",
       "      <th>max</th>\n",
       "      <td>24.000000</td>\n",
       "      <td>255.000000</td>\n",
       "      <td>255.000000</td>\n",
       "      <td>255.000000</td>\n",
       "      <td>255.000000</td>\n",
       "      <td>255.000000</td>\n",
       "      <td>255.000000</td>\n",
       "      <td>255.000000</td>\n",
       "      <td>255.000000</td>\n",
       "      <td>255.000000</td>\n",
       "      <td>...</td>\n",
       "      <td>255.000000</td>\n",
       "      <td>255.000000</td>\n",
       "      <td>255.000000</td>\n",
       "      <td>255.000000</td>\n",
       "      <td>255.000000</td>\n",
       "      <td>255.000000</td>\n",
       "      <td>255.000000</td>\n",
       "      <td>255.000000</td>\n",
       "      <td>255.000000</td>\n",
       "      <td>255.000000</td>\n",
       "    </tr>\n",
       "  </tbody>\n",
       "</table>\n",
       "<p>8 rows × 785 columns</p>\n",
       "</div>"
      ],
      "text/plain": [
       "              label        pixel1        pixel2        pixel3        pixel4  \\\n",
       "count  27454.000000  27454.000000  27454.000000  27454.000000  27454.000000   \n",
       "mean      12.318533    145.420267    148.501129    151.248525    153.547316   \n",
       "std        7.287537     41.359046     39.942628     39.056766     38.595731   \n",
       "min        0.000000      0.000000      0.000000      0.000000      0.000000   \n",
       "25%        6.000000    121.000000    126.000000    130.000000    133.000000   \n",
       "50%       13.000000    150.000000    153.000000    156.000000    158.000000   \n",
       "75%       19.000000    174.000000    176.000000    178.000000    179.000000   \n",
       "max       24.000000    255.000000    255.000000    255.000000    255.000000   \n",
       "\n",
       "             pixel5        pixel6        pixel7        pixel8        pixel9  \\\n",
       "count  27454.000000  27454.000000  27454.000000  27454.000000  27454.000000   \n",
       "mean     156.211700    158.412035    160.472937    162.340460    163.955526   \n",
       "std       37.111598     36.126006     35.016790     33.662365     32.651980   \n",
       "min        0.000000      0.000000      0.000000      0.000000      0.000000   \n",
       "25%      137.000000    140.000000    142.000000    144.000000    146.000000   \n",
       "50%      160.000000    162.000000    164.000000    165.000000    166.000000   \n",
       "75%      181.000000    182.000000    183.000000    184.000000    185.000000   \n",
       "max      255.000000    255.000000    255.000000    255.000000    255.000000   \n",
       "\n",
       "       ...      pixel775      pixel776      pixel777      pixel778  \\\n",
       "count  ...  27454.000000  27454.000000  27454.000000  27454.000000   \n",
       "mean   ...    141.107234    147.495665    153.324179    159.124135   \n",
       "std    ...     63.751144     65.514087     64.428021     63.709358   \n",
       "min    ...      0.000000      0.000000      0.000000      0.000000   \n",
       "25%    ...     92.000000     96.000000    103.000000    112.000000   \n",
       "50%    ...    144.000000    162.000000    172.000000    180.000000   \n",
       "75%    ...    196.000000    202.000000    205.000000    207.000000   \n",
       "max    ...    255.000000    255.000000    255.000000    255.000000   \n",
       "\n",
       "           pixel779      pixel780      pixel781      pixel782      pixel783  \\\n",
       "count  27454.000000  27454.000000  27454.000000  27454.000000  27454.000000   \n",
       "mean     161.968092    162.735558    162.904968    161.965251    161.136665   \n",
       "std       63.739183     63.444883     63.510071     63.299560     63.611245   \n",
       "min        0.000000      0.000000      0.000000      0.000000      0.000000   \n",
       "25%      120.000000    125.000000    128.000000    128.000000    128.000000   \n",
       "50%      183.000000    184.000000    184.000000    182.000000    182.000000   \n",
       "75%      208.000000    207.000000    207.000000    206.000000    204.000000   \n",
       "max      255.000000    255.000000    255.000000    255.000000    255.000000   \n",
       "\n",
       "           pixel784  \n",
       "count  27454.000000  \n",
       "mean     159.823450  \n",
       "std       64.397669  \n",
       "min        0.000000  \n",
       "25%      125.250000  \n",
       "50%      182.000000  \n",
       "75%      204.000000  \n",
       "max      255.000000  \n",
       "\n",
       "[8 rows x 785 columns]"
      ]
     },
     "execution_count": 17,
     "metadata": {},
     "output_type": "execute_result"
    }
   ],
   "source": [
    "train_df.describe()\n"
   ]
  },
  {
   "cell_type": "markdown",
   "id": "87e136d2",
   "metadata": {},
   "source": [
    " # 20%: Initial model successfully trained (and acting as a baseline)"
   ]
  },
  {
   "cell_type": "code",
   "execution_count": 18,
   "id": "09046338",
   "metadata": {},
   "outputs": [],
   "source": [
    "# Defining the CNN\n",
    "\n",
    "model = keras.models.Sequential()\n",
    "model.add(keras.layers.Conv2D(32, (5, 5), padding='same', activation='relu', input_shape=(28, 28, 1)))\n",
    "model.add(keras.layers.MaxPooling2D(pool_size=(2, 2)))\n",
    "model.add(keras.layers.Conv2D(64, (5, 5), padding='same', activation='relu'))\n",
    "model.add(keras.layers.MaxPooling2D(pool_size=(2, 2)))\n",
    "model.add(keras.layers.Conv2D(128, (5, 5), padding='same', activation='relu'))\n",
    "model.add(keras.layers.MaxPooling2D(pool_size=(2, 2)))\n",
    "model.add(keras.layers.Flatten())\n",
    "model.add(keras.layers.Dense(128, activation='relu'))\n",
    "model.add(keras.layers.Dense(24, activation='softmax'))"
   ]
  },
  {
   "cell_type": "code",
   "execution_count": 19,
   "id": "333da112",
   "metadata": {
    "scrolled": true
   },
   "outputs": [
    {
     "name": "stdout",
     "output_type": "stream",
     "text": [
      "Model: \"sequential\"\n",
      "_________________________________________________________________\n",
      " Layer (type)                Output Shape              Param #   \n",
      "=================================================================\n",
      " conv2d (Conv2D)             (None, 28, 28, 32)        832       \n",
      "                                                                 \n",
      " max_pooling2d (MaxPooling2  (None, 14, 14, 32)        0         \n",
      " D)                                                              \n",
      "                                                                 \n",
      " conv2d_1 (Conv2D)           (None, 14, 14, 64)        51264     \n",
      "                                                                 \n",
      " max_pooling2d_1 (MaxPoolin  (None, 7, 7, 64)          0         \n",
      " g2D)                                                            \n",
      "                                                                 \n",
      " conv2d_2 (Conv2D)           (None, 7, 7, 128)         204928    \n",
      "                                                                 \n",
      " max_pooling2d_2 (MaxPoolin  (None, 3, 3, 128)         0         \n",
      " g2D)                                                            \n",
      "                                                                 \n",
      " flatten (Flatten)           (None, 1152)              0         \n",
      "                                                                 \n",
      " dense (Dense)               (None, 128)               147584    \n",
      "                                                                 \n",
      " dense_1 (Dense)             (None, 24)                3096      \n",
      "                                                                 \n",
      "=================================================================\n",
      "Total params: 407704 (1.56 MB)\n",
      "Trainable params: 407704 (1.56 MB)\n",
      "Non-trainable params: 0 (0.00 Byte)\n",
      "_________________________________________________________________\n"
     ]
    }
   ],
   "source": [
    "model.summary()"
   ]
  },
  {
   "cell_type": "code",
   "execution_count": 20,
   "id": "9acfb354",
   "metadata": {},
   "outputs": [],
   "source": [
    "model.compile(loss='categorical_crossentropy', optimizer='adam', metrics=['accuracy'])"
   ]
  },
  {
   "cell_type": "code",
   "execution_count": 21,
   "id": "f9ebd211",
   "metadata": {},
   "outputs": [],
   "source": [
    "save_best_cb = keras.callbacks.ModelCheckpoint('models/initial-end-to-end', save_best_only=True) # Saves the best model so far\n",
    "early_stopping_cb = keras.callbacks.EarlyStopping(patience=5) # Interupts training when there is no progress"
   ]
  },
  {
   "cell_type": "code",
   "execution_count": 22,
   "id": "4451f28a",
   "metadata": {
    "scrolled": true
   },
   "outputs": [
    {
     "name": "stdout",
     "output_type": "stream",
     "text": [
      "Epoch 1/20\n"
     ]
    },
    {
     "name": "stdout",
     "output_type": "stream",
     "text": [
      "781/782 [============================>.] - ETA: 0s - loss: 0.7046 - accuracy: 0.7846INFO:tensorflow:Assets written to: models/initial-end-to-end/assets\n"
     ]
    },
    {
     "name": "stderr",
     "output_type": "stream",
     "text": [
      "INFO:tensorflow:Assets written to: models/initial-end-to-end/assets\n"
     ]
    },
    {
     "name": "stdout",
     "output_type": "stream",
     "text": [
      "782/782 [==============================] - 34s 42ms/step - loss: 0.7044 - accuracy: 0.7846 - val_loss: 0.0314 - val_accuracy: 0.9906\n",
      "Epoch 2/20\n",
      "780/782 [============================>.] - ETA: 0s - loss: 0.0034 - accuracy: 0.9998INFO:tensorflow:Assets written to: models/initial-end-to-end/assets\n"
     ]
    },
    {
     "name": "stderr",
     "output_type": "stream",
     "text": [
      "INFO:tensorflow:Assets written to: models/initial-end-to-end/assets\n"
     ]
    },
    {
     "name": "stdout",
     "output_type": "stream",
     "text": [
      "782/782 [==============================] - 33s 42ms/step - loss: 0.0034 - accuracy: 0.9998 - val_loss: 6.0890e-04 - val_accuracy: 1.0000\n",
      "Epoch 3/20\n",
      "782/782 [==============================] - ETA: 0s - loss: 3.7089e-04 - accuracy: 1.0000INFO:tensorflow:Assets written to: models/initial-end-to-end/assets\n"
     ]
    },
    {
     "name": "stderr",
     "output_type": "stream",
     "text": [
      "INFO:tensorflow:Assets written to: models/initial-end-to-end/assets\n"
     ]
    },
    {
     "name": "stdout",
     "output_type": "stream",
     "text": [
      "782/782 [==============================] - 32s 41ms/step - loss: 3.7089e-04 - accuracy: 1.0000 - val_loss: 2.3209e-04 - val_accuracy: 1.0000\n",
      "Epoch 4/20\n",
      "782/782 [==============================] - ETA: 0s - loss: 1.5382e-04 - accuracy: 1.0000INFO:tensorflow:Assets written to: models/initial-end-to-end/assets\n"
     ]
    },
    {
     "name": "stderr",
     "output_type": "stream",
     "text": [
      "INFO:tensorflow:Assets written to: models/initial-end-to-end/assets\n"
     ]
    },
    {
     "name": "stdout",
     "output_type": "stream",
     "text": [
      "782/782 [==============================] - 32s 41ms/step - loss: 1.5382e-04 - accuracy: 1.0000 - val_loss: 1.1754e-04 - val_accuracy: 1.0000\n",
      "Epoch 5/20\n",
      "781/782 [============================>.] - ETA: 0s - loss: 8.2255e-05 - accuracy: 1.0000INFO:tensorflow:Assets written to: models/initial-end-to-end/assets\n"
     ]
    },
    {
     "name": "stderr",
     "output_type": "stream",
     "text": [
      "INFO:tensorflow:Assets written to: models/initial-end-to-end/assets\n"
     ]
    },
    {
     "name": "stdout",
     "output_type": "stream",
     "text": [
      "782/782 [==============================] - 32s 41ms/step - loss: 8.2270e-05 - accuracy: 1.0000 - val_loss: 6.0095e-05 - val_accuracy: 1.0000\n",
      "Epoch 6/20\n",
      "782/782 [==============================] - ETA: 0s - loss: 4.6379e-05 - accuracy: 1.0000INFO:tensorflow:Assets written to: models/initial-end-to-end/assets\n"
     ]
    },
    {
     "name": "stderr",
     "output_type": "stream",
     "text": [
      "INFO:tensorflow:Assets written to: models/initial-end-to-end/assets\n"
     ]
    },
    {
     "name": "stdout",
     "output_type": "stream",
     "text": [
      "782/782 [==============================] - 33s 43ms/step - loss: 4.6379e-05 - accuracy: 1.0000 - val_loss: 3.8260e-05 - val_accuracy: 1.0000\n",
      "Epoch 7/20\n",
      "781/782 [============================>.] - ETA: 0s - loss: 2.7587e-05 - accuracy: 1.0000INFO:tensorflow:Assets written to: models/initial-end-to-end/assets\n"
     ]
    },
    {
     "name": "stderr",
     "output_type": "stream",
     "text": [
      "INFO:tensorflow:Assets written to: models/initial-end-to-end/assets\n"
     ]
    },
    {
     "name": "stdout",
     "output_type": "stream",
     "text": [
      "782/782 [==============================] - 36s 46ms/step - loss: 2.7589e-05 - accuracy: 1.0000 - val_loss: 2.2953e-05 - val_accuracy: 1.0000\n",
      "Epoch 8/20\n",
      "781/782 [============================>.] - ETA: 0s - loss: 1.6300e-05 - accuracy: 1.0000INFO:tensorflow:Assets written to: models/initial-end-to-end/assets\n"
     ]
    },
    {
     "name": "stderr",
     "output_type": "stream",
     "text": [
      "INFO:tensorflow:Assets written to: models/initial-end-to-end/assets\n"
     ]
    },
    {
     "name": "stdout",
     "output_type": "stream",
     "text": [
      "782/782 [==============================] - 35s 45ms/step - loss: 1.6296e-05 - accuracy: 1.0000 - val_loss: 1.5732e-05 - val_accuracy: 1.0000\n",
      "Epoch 9/20\n",
      "781/782 [============================>.] - ETA: 0s - loss: 9.1898e-06 - accuracy: 1.0000INFO:tensorflow:Assets written to: models/initial-end-to-end/assets\n"
     ]
    },
    {
     "name": "stderr",
     "output_type": "stream",
     "text": [
      "INFO:tensorflow:Assets written to: models/initial-end-to-end/assets\n"
     ]
    },
    {
     "name": "stdout",
     "output_type": "stream",
     "text": [
      "782/782 [==============================] - 36s 45ms/step - loss: 9.1884e-06 - accuracy: 1.0000 - val_loss: 9.6064e-06 - val_accuracy: 1.0000\n",
      "Epoch 10/20\n",
      "782/782 [==============================] - ETA: 0s - loss: 5.4429e-06 - accuracy: 1.0000INFO:tensorflow:Assets written to: models/initial-end-to-end/assets\n"
     ]
    },
    {
     "name": "stderr",
     "output_type": "stream",
     "text": [
      "INFO:tensorflow:Assets written to: models/initial-end-to-end/assets\n"
     ]
    },
    {
     "name": "stdout",
     "output_type": "stream",
     "text": [
      "782/782 [==============================] - 35s 45ms/step - loss: 5.4429e-06 - accuracy: 1.0000 - val_loss: 5.1104e-06 - val_accuracy: 1.0000\n",
      "Epoch 11/20\n",
      "781/782 [============================>.] - ETA: 0s - loss: 3.3711e-06 - accuracy: 1.0000INFO:tensorflow:Assets written to: models/initial-end-to-end/assets\n"
     ]
    },
    {
     "name": "stderr",
     "output_type": "stream",
     "text": [
      "INFO:tensorflow:Assets written to: models/initial-end-to-end/assets\n"
     ]
    },
    {
     "name": "stdout",
     "output_type": "stream",
     "text": [
      "782/782 [==============================] - 35s 44ms/step - loss: 3.3709e-06 - accuracy: 1.0000 - val_loss: 3.2336e-06 - val_accuracy: 1.0000\n",
      "Epoch 12/20\n",
      "782/782 [==============================] - ETA: 0s - loss: 2.1540e-06 - accuracy: 1.0000INFO:tensorflow:Assets written to: models/initial-end-to-end/assets\n"
     ]
    },
    {
     "name": "stderr",
     "output_type": "stream",
     "text": [
      "INFO:tensorflow:Assets written to: models/initial-end-to-end/assets\n"
     ]
    },
    {
     "name": "stdout",
     "output_type": "stream",
     "text": [
      "782/782 [==============================] - 36s 45ms/step - loss: 2.1540e-06 - accuracy: 1.0000 - val_loss: 2.1546e-06 - val_accuracy: 1.0000\n",
      "Epoch 13/20\n",
      "782/782 [==============================] - 35s 45ms/step - loss: 1.2802e-06 - accuracy: 1.0000 - val_loss: 2.3008e-06 - val_accuracy: 1.0000\n",
      "Epoch 14/20\n",
      "782/782 [==============================] - 34s 44ms/step - loss: 0.0854 - accuracy: 0.9784 - val_loss: 3.5172e-04 - val_accuracy: 1.0000\n",
      "Epoch 15/20\n",
      "782/782 [==============================] - 36s 45ms/step - loss: 2.0148e-04 - accuracy: 1.0000 - val_loss: 1.3465e-04 - val_accuracy: 1.0000\n",
      "Epoch 16/20\n",
      "782/782 [==============================] - 35s 45ms/step - loss: 9.0976e-05 - accuracy: 1.0000 - val_loss: 6.9594e-05 - val_accuracy: 1.0000\n",
      "Epoch 17/20\n",
      "782/782 [==============================] - 35s 45ms/step - loss: 5.0039e-05 - accuracy: 1.0000 - val_loss: 3.9365e-05 - val_accuracy: 1.0000\n"
     ]
    }
   ],
   "source": [
    "history = model.fit(X_train, y_train, epochs=20, validation_data=(X_valid, y_valid), callbacks=[save_best_cb, early_stopping_cb])"
   ]
  },
  {
   "cell_type": "code",
   "execution_count": 23,
   "id": "c5e12a49",
   "metadata": {
    "scrolled": true
   },
   "outputs": [
    {
     "data": {
      "text/plain": [
       "{'loss': [0.704374372959137,\n",
       "  0.003444432746618986,\n",
       "  0.00037089144461788237,\n",
       "  0.00015381982666440308,\n",
       "  8.227018406614661e-05,\n",
       "  4.637883830582723e-05,\n",
       "  2.7588985176407732e-05,\n",
       "  1.6296058674925007e-05,\n",
       "  9.18843306862982e-06,\n",
       "  5.442915608000476e-06,\n",
       "  3.370857257323223e-06,\n",
       "  2.1539892713917652e-06,\n",
       "  1.2802478295270703e-06,\n",
       "  0.08540958166122437,\n",
       "  0.00020148181647527963,\n",
       "  9.097588190343231e-05,\n",
       "  5.003947808290832e-05],\n",
       " 'accuracy': [0.7846400141716003,\n",
       "  0.9998000264167786,\n",
       "  1.0,\n",
       "  1.0,\n",
       "  1.0,\n",
       "  1.0,\n",
       "  1.0,\n",
       "  1.0,\n",
       "  1.0,\n",
       "  1.0,\n",
       "  1.0,\n",
       "  1.0,\n",
       "  1.0,\n",
       "  0.97843998670578,\n",
       "  1.0,\n",
       "  1.0,\n",
       "  1.0],\n",
       " 'val_loss': [0.031369805335998535,\n",
       "  0.0006089008529670537,\n",
       "  0.00023209047503769398,\n",
       "  0.00011753720173146576,\n",
       "  6.0094833315815777e-05,\n",
       "  3.8259971915977076e-05,\n",
       "  2.2953459847485647e-05,\n",
       "  1.573174085933715e-05,\n",
       "  9.606362254999112e-06,\n",
       "  5.110434358357452e-06,\n",
       "  3.2336365620722063e-06,\n",
       "  2.154574076485005e-06,\n",
       "  2.3007773961580824e-06,\n",
       "  0.0003517248260322958,\n",
       "  0.00013465418305713683,\n",
       "  6.959442544030026e-05,\n",
       "  3.936523717129603e-05],\n",
       " 'val_accuracy': [0.9906275272369385,\n",
       "  1.0,\n",
       "  1.0,\n",
       "  1.0,\n",
       "  1.0,\n",
       "  1.0,\n",
       "  1.0,\n",
       "  1.0,\n",
       "  1.0,\n",
       "  1.0,\n",
       "  1.0,\n",
       "  1.0,\n",
       "  1.0,\n",
       "  1.0,\n",
       "  1.0,\n",
       "  1.0,\n",
       "  1.0]}"
      ]
     },
     "execution_count": 23,
     "metadata": {},
     "output_type": "execute_result"
    }
   ],
   "source": [
    "history.history # Contains the training related information for each epoch"
   ]
  },
  {
   "cell_type": "code",
   "execution_count": 24,
   "id": "acc714c0",
   "metadata": {
    "scrolled": true
   },
   "outputs": [],
   "source": [
    "h = history.history"
   ]
  },
  {
   "cell_type": "code",
   "execution_count": 25,
   "id": "2a7ada31",
   "metadata": {},
   "outputs": [
    {
     "name": "stdout",
     "output_type": "stream",
     "text": [
      " 7/77 [=>............................] - ETA: 0s - loss: 3.8477e-05 - accuracy: 1.0000"
     ]
    },
    {
     "name": "stdout",
     "output_type": "stream",
     "text": [
      "77/77 [==============================] - 1s 8ms/step - loss: 3.9365e-05 - accuracy: 1.0000\n",
      "Validation Accuracy: 100.00%\n"
     ]
    },
    {
     "data": {
      "image/png": "[encoded data removed]",
      "text/plain": [
       "<Figure size 640x480 with 1 Axes>"
      ]
     },
     "metadata": {},
     "output_type": "display_data"
    }
   ],
   "source": [
    "valid_loss, valid_accuracy = model.evaluate(X_valid, y_valid)\n",
    "print(f\"Validation Accuracy: {valid_accuracy * 100:.2f}%\")\n",
    "\n",
    "plt.plot(history.history['accuracy'], label='Train Accuracy')\n",
    "plt.plot(history.history['val_accuracy'], label='Validation Accuracy')\n",
    "plt.xlabel('Epoch')\n",
    "plt.ylabel('Accuracy')\n",
    "plt.legend()\n",
    "plt.show()\n"
   ]
  },
  {
   "cell_type": "code",
   "execution_count": 26,
   "id": "96517c3b",
   "metadata": {},
   "outputs": [],
   "source": [
    "best_model = keras.models.load_model('models/initial-end-to-end') # Model with best set of parameters not necessarily the model at the last epoch of training"
   ]
  },
  {
   "cell_type": "code",
   "execution_count": 27,
   "id": "94301555",
   "metadata": {},
   "outputs": [
    {
     "data": {
      "text/plain": [
       "<matplotlib.legend.Legend at 0x13df80150>"
      ]
     },
     "execution_count": 27,
     "metadata": {},
     "output_type": "execute_result"
    },
    {
     "data": {
      "image/png": "[encoded data removed]",
      "text/plain": [
       "<Figure size 1000x500 with 1 Axes>"
      ]
     },
     "metadata": {},
     "output_type": "display_data"
    }
   ],
   "source": [
    "fig, ax = plt.subplots(figsize=(10, 5))\n",
    "n_epochs = len(h['loss'])\n",
    "ax.plot(range(1, n_epochs+1), h['loss'], color='b', label='train_loss')\n",
    "ax.plot(range(1, n_epochs+1), h['val_loss'], color='c', label='val_loss')\n",
    "ax.plot(range(1, n_epochs+1), h['accuracy'], color='b', label='train_accuracy', linestyle='--')\n",
    "ax.plot(range(1, n_epochs+1), h['val_accuracy'], color='c', label='val_accuracy', linestyle='--')\n",
    "ax.set_xticks(range(1, n_epochs+1))\n",
    "ax.legend()"
   ]
  },
  {
   "cell_type": "code",
   "execution_count": 28,
   "id": "1cceeb24",
   "metadata": {},
   "outputs": [
    {
     "data": {
      "text/plain": [
       "<matplotlib.legend.Legend at 0x13e485110>"
      ]
     },
     "execution_count": 28,
     "metadata": {},
     "output_type": "execute_result"
    },
    {
     "data": {
      "image/png": "[encoded data removed]",
      "text/plain": [
       "<Figure size 1000x500 with 1 Axes>"
      ]
     },
     "metadata": {},
     "output_type": "display_data"
    }
   ],
   "source": [
    "# Training Loss Correction\n",
    "\n",
    "fig, ax = plt.subplots(figsize=(10, 5))\n",
    "n_epochs = len(h['loss'])\n",
    "\n",
    "# Shift training loss by 0.5 as training loss is measured during the epoch and validation loss is measured after the epoch\n",
    "\n",
    "x_loss = np.arange(n_epochs+1)-0.5\n",
    "ax.plot(x_loss[x_loss >= 0], h['loss'], color='b', label='train_loss')\n",
    "ax.plot(range(1, n_epochs+1), h['val_loss'], color='r', label='val_loss')\n",
    "ax.plot(range(1, n_epochs+1), h['accuracy'], color='b', label='train_accuracy', linestyle='--')\n",
    "ax.plot(range(1, n_epochs+1), h['val_accuracy'], color='r', label='val_accuracy', linestyle='--')\n",
    "ax.set_xlim(0, n_epochs)\n",
    "ax.set_xticks(range(1, n_epochs+1))\n",
    "ax.legend()"
   ]
  },
  {
   "cell_type": "code",
   "execution_count": 29,
   "id": "b7e5d4b0",
   "metadata": {},
   "outputs": [],
   "source": [
    "# Defining a function the get the training and validation plots representing the accuracy and loss at each epoch\n",
    "\n",
    "def get_train_val_plots(h, yticks=None, figsize=(10, 5)):\n",
    "    # h: Any dictionary like the history.history\n",
    "    \n",
    "    fig, ax = plt.subplots(figsize=figsize)\n",
    "    n_epochs = len(h['loss'])\n",
    "    x_loss = np.arange(n_epochs+1)-0.5\n",
    "    \n",
    "    ax.plot(x_loss[x_loss >= 0], h['loss'], color='b', label='train_loss')\n",
    "    ax.plot(range(1, n_epochs+1), h['val_loss'], color='r', label='val_loss')\n",
    "    ax.plot(range(1, n_epochs+1), h['accuracy'], color='b', label='train_accuracy', linestyle='--')\n",
    "    ax.plot(range(1, n_epochs+1), h['val_accuracy'], color='r', label='val_accuracy', linestyle='--')\n",
    "    ax.set_xlim(0, n_epochs)\n",
    "    ax.set_xticks(range(1, n_epochs+1))\n",
    "    if yticks is not None:\n",
    "        ax.set_yticks(yticks)\n",
    "    ax.legend()"
   ]
  },
  {
   "cell_type": "code",
   "execution_count": 30,
   "id": "6f1885f7",
   "metadata": {},
   "outputs": [
    {
     "data": {
      "image/png": "[encoded data removed]",
      "text/plain": [
       "<Figure size 1000x500 with 1 Axes>"
      ]
     },
     "metadata": {},
     "output_type": "display_data"
    }
   ],
   "source": [
    "get_train_val_plots(h)"
   ]
  },
  {
   "cell_type": "code",
   "execution_count": 31,
   "id": "aadf9622",
   "metadata": {},
   "outputs": [],
   "source": [
    "test_df = pd.read_csv('sign_mnist_test.csv') # Load the test data"
   ]
  },
  {
   "cell_type": "code",
   "execution_count": 32,
   "id": "c22ee404",
   "metadata": {},
   "outputs": [],
   "source": [
    "X_test, y_test = test_df.drop('label', axis=1), test_df['label']"
   ]
  },
  {
   "cell_type": "code",
   "execution_count": 33,
   "id": "50fcf741",
   "metadata": {},
   "outputs": [],
   "source": [
    "X_test = tf.reshape(X_test, [-1, 28, 28, 1])"
   ]
  },
  {
   "cell_type": "code",
   "execution_count": 34,
   "id": "04d31bf4",
   "metadata": {},
   "outputs": [],
   "source": [
    "y_test = label_binarizer.transform(y_test)"
   ]
  },
  {
   "cell_type": "code",
   "execution_count": 35,
   "id": "4c761190",
   "metadata": {
    "scrolled": true
   },
   "outputs": [
    {
     "name": "stdout",
     "output_type": "stream",
     "text": [
      "225/225 [==============================] - 2s 8ms/step - loss: 87.7533 - accuracy: 0.9289\n"
     ]
    },
    {
     "data": {
      "text/plain": [
       "[87.75325775146484, 0.9288901090621948]"
      ]
     },
     "execution_count": 35,
     "metadata": {},
     "output_type": "execute_result"
    }
   ],
   "source": [
    "best_model.evaluate(X_test, y_test)"
   ]
  },
  {
   "cell_type": "markdown",
   "id": "9085b7ff",
   "metadata": {},
   "source": [
    "Accuracy: 92%"
   ]
  },
  {
   "cell_type": "code",
   "execution_count": 36,
   "id": "685402ff",
   "metadata": {},
   "outputs": [],
   "source": [
    "# Preprocesses the input and evaluates the model\n",
    "\n",
    "def evaluate_model(model, X_test, y_test, label_binarizer):\n",
    "    X_test_reshape = tf.reshape(X_test, [-1, 28, 28, 1])\n",
    "    y_test_labels = label_binarizer.transform(y_test)\n",
    "    results = model.evaluate(X_test_reshape, y_test_labels)\n",
    "    print(f'Loss: {results[0]:.3f} Accuracy: {results[1]:.3f}')"
   ]
  },
  {
   "cell_type": "code",
   "execution_count": 37,
   "id": "af272eed",
   "metadata": {},
   "outputs": [
    {
     "name": "stdout",
     "output_type": "stream",
     "text": [
      "225/225 [==============================] - 2s 7ms/step - loss: 87.7533 - accuracy: 0.9289\n",
      "Loss: 87.753 Accuracy: 0.929\n"
     ]
    }
   ],
   "source": [
    "results = evaluate_model(best_model, test_df.drop('label', axis=1), test_df['label'], label_binarizer)"
   ]
  },
  {
   "cell_type": "markdown",
   "id": "a9298239",
   "metadata": {},
   "source": [
    " # 45%: Optimisation of an appropriate set of models in an appropriate way (given the constraint of 50 training runs)"
   ]
  },
  {
   "cell_type": "code",
   "execution_count": 38,
   "id": "1f392588",
   "metadata": {},
   "outputs": [],
   "source": [
    "#Convolution and Max Pooling Pairs\n",
    "\n",
    "#1. For pair = 1 -> Output to the dense layer will be of the shape `(None, 14, 14, 32)`\n",
    "#2. For pair = 2 -> Output to the dense layer will be of the shape `(None, 7, 7, 64)`\n",
    "#3. For pair = 3 -> Output to the dense layer will be of the shape `(None, 3, 3, 96)`\n",
    "#4. For pair = 4 -> Output to the dense layer will be of the shape `(None, 1, 1, 128)`\n",
    "\n",
    "# 20% Validation Split\n",
    "\n",
    "X_train, X_valid = X[:19500], X[19500:]\n",
    "y_train, y_valid = y[:19500], y[19500:]"
   ]
  },
  {
   "cell_type": "code",
   "execution_count": 39,
   "id": "e5583291",
   "metadata": {
    "scrolled": true
   },
   "outputs": [
    {
     "name": "stdout",
     "output_type": "stream",
     "text": [
      "Epoch 1/15\n",
      "607/610 [============================>.] - ETA: 0s - loss: 1.2894 - accuracy: 0.6360INFO:tensorflow:Assets written to: models/experiment-1-1/assets\n"
     ]
    },
    {
     "name": "stderr",
     "output_type": "stream",
     "text": [
      "INFO:tensorflow:Assets written to: models/experiment-1-1/assets\n"
     ]
    },
    {
     "name": "stdout",
     "output_type": "stream",
     "text": [
      "610/610 [==============================] - 10s 15ms/step - loss: 1.2856 - accuracy: 0.6370 - val_loss: 0.3885 - val_accuracy: 0.8904\n",
      "Epoch 2/15\n",
      "609/610 [============================>.] - ETA: 0s - loss: 0.1944 - accuracy: 0.9580INFO:tensorflow:Assets written to: models/experiment-1-1/assets\n"
     ]
    },
    {
     "name": "stderr",
     "output_type": "stream",
     "text": [
      "INFO:tensorflow:Assets written to: models/experiment-1-1/assets\n"
     ]
    },
    {
     "name": "stdout",
     "output_type": "stream",
     "text": [
      "610/610 [==============================] - 9s 14ms/step - loss: 0.1942 - accuracy: 0.9580 - val_loss: 0.0740 - val_accuracy: 0.9962\n",
      "Epoch 3/15\n",
      "607/610 [============================>.] - ETA: 0s - loss: 0.0423 - accuracy: 0.9978INFO:tensorflow:Assets written to: models/experiment-1-1/assets\n"
     ]
    },
    {
     "name": "stderr",
     "output_type": "stream",
     "text": [
      "INFO:tensorflow:Assets written to: models/experiment-1-1/assets\n"
     ]
    },
    {
     "name": "stdout",
     "output_type": "stream",
     "text": [
      "610/610 [==============================] - 8s 14ms/step - loss: 0.0422 - accuracy: 0.9978 - val_loss: 0.0195 - val_accuracy: 1.0000\n",
      "Epoch 4/15\n",
      "607/610 [============================>.] - ETA: 0s - loss: 0.0135 - accuracy: 0.9998INFO:tensorflow:Assets written to: models/experiment-1-1/assets\n"
     ]
    },
    {
     "name": "stderr",
     "output_type": "stream",
     "text": [
      "INFO:tensorflow:Assets written to: models/experiment-1-1/assets\n"
     ]
    },
    {
     "name": "stdout",
     "output_type": "stream",
     "text": [
      "610/610 [==============================] - 8s 14ms/step - loss: 0.0135 - accuracy: 0.9998 - val_loss: 0.0111 - val_accuracy: 1.0000\n",
      "Epoch 5/15\n",
      "606/610 [============================>.] - ETA: 0s - loss: 0.0062 - accuracy: 1.0000INFO:tensorflow:Assets written to: models/experiment-1-1/assets\n"
     ]
    },
    {
     "name": "stderr",
     "output_type": "stream",
     "text": [
      "INFO:tensorflow:Assets written to: models/experiment-1-1/assets\n"
     ]
    },
    {
     "name": "stdout",
     "output_type": "stream",
     "text": [
      "610/610 [==============================] - 8s 14ms/step - loss: 0.0062 - accuracy: 1.0000 - val_loss: 0.0047 - val_accuracy: 1.0000\n",
      "Epoch 6/15\n",
      "606/610 [============================>.] - ETA: 0s - loss: 0.0033 - accuracy: 1.0000INFO:tensorflow:Assets written to: models/experiment-1-1/assets\n"
     ]
    },
    {
     "name": "stderr",
     "output_type": "stream",
     "text": [
      "INFO:tensorflow:Assets written to: models/experiment-1-1/assets\n"
     ]
    },
    {
     "name": "stdout",
     "output_type": "stream",
     "text": [
      "610/610 [==============================] - 9s 14ms/step - loss: 0.0033 - accuracy: 1.0000 - val_loss: 0.0025 - val_accuracy: 0.9999\n",
      "Epoch 7/15\n",
      "607/610 [============================>.] - ETA: 0s - loss: 0.0019 - accuracy: 1.0000INFO:tensorflow:Assets written to: models/experiment-1-1/assets\n"
     ]
    },
    {
     "name": "stderr",
     "output_type": "stream",
     "text": [
      "INFO:tensorflow:Assets written to: models/experiment-1-1/assets\n"
     ]
    },
    {
     "name": "stdout",
     "output_type": "stream",
     "text": [
      "610/610 [==============================] - 9s 14ms/step - loss: 0.0019 - accuracy: 1.0000 - val_loss: 0.0018 - val_accuracy: 1.0000\n",
      "Epoch 8/15\n",
      "610/610 [==============================] - ETA: 0s - loss: 0.0013 - accuracy: 1.0000INFO:tensorflow:Assets written to: models/experiment-1-1/assets\n"
     ]
    },
    {
     "name": "stderr",
     "output_type": "stream",
     "text": [
      "INFO:tensorflow:Assets written to: models/experiment-1-1/assets\n"
     ]
    },
    {
     "name": "stdout",
     "output_type": "stream",
     "text": [
      "610/610 [==============================] - 9s 14ms/step - loss: 0.0013 - accuracy: 1.0000 - val_loss: 0.0011 - val_accuracy: 1.0000\n",
      "Epoch 9/15\n",
      "609/610 [============================>.] - ETA: 0s - loss: 7.4314e-04 - accuracy: 1.0000INFO:tensorflow:Assets written to: models/experiment-1-1/assets\n"
     ]
    },
    {
     "name": "stderr",
     "output_type": "stream",
     "text": [
      "INFO:tensorflow:Assets written to: models/experiment-1-1/assets\n"
     ]
    },
    {
     "name": "stdout",
     "output_type": "stream",
     "text": [
      "610/610 [==============================] - 9s 14ms/step - loss: 7.4311e-04 - accuracy: 1.0000 - val_loss: 7.4378e-04 - val_accuracy: 1.0000\n",
      "Epoch 10/15\n",
      "610/610 [==============================] - 9s 14ms/step - loss: 0.0288 - accuracy: 0.9923 - val_loss: 9.9583e-04 - val_accuracy: 1.0000\n",
      "Epoch 11/15\n",
      "607/610 [============================>.] - ETA: 0s - loss: 6.3610e-04 - accuracy: 1.0000INFO:tensorflow:Assets written to: models/experiment-1-1/assets\n"
     ]
    },
    {
     "name": "stderr",
     "output_type": "stream",
     "text": [
      "INFO:tensorflow:Assets written to: models/experiment-1-1/assets\n"
     ]
    },
    {
     "name": "stdout",
     "output_type": "stream",
     "text": [
      "610/610 [==============================] - 9s 15ms/step - loss: 6.3540e-04 - accuracy: 1.0000 - val_loss: 6.2494e-04 - val_accuracy: 1.0000\n",
      "Epoch 12/15\n",
      "608/610 [============================>.] - ETA: 0s - loss: 4.2192e-04 - accuracy: 1.0000INFO:tensorflow:Assets written to: models/experiment-1-1/assets\n"
     ]
    },
    {
     "name": "stderr",
     "output_type": "stream",
     "text": [
      "INFO:tensorflow:Assets written to: models/experiment-1-1/assets\n"
     ]
    },
    {
     "name": "stdout",
     "output_type": "stream",
     "text": [
      "610/610 [==============================] - 9s 15ms/step - loss: 4.2155e-04 - accuracy: 1.0000 - val_loss: 4.5273e-04 - val_accuracy: 1.0000\n",
      "Epoch 13/15\n",
      "606/610 [============================>.] - ETA: 0s - loss: 3.1237e-04 - accuracy: 1.0000INFO:tensorflow:Assets written to: models/experiment-1-1/assets\n"
     ]
    },
    {
     "name": "stderr",
     "output_type": "stream",
     "text": [
      "INFO:tensorflow:Assets written to: models/experiment-1-1/assets\n"
     ]
    },
    {
     "name": "stdout",
     "output_type": "stream",
     "text": [
      "610/610 [==============================] - 9s 15ms/step - loss: 3.1291e-04 - accuracy: 1.0000 - val_loss: 3.9786e-04 - val_accuracy: 1.0000\n",
      "Epoch 14/15\n",
      "606/610 [============================>.] - ETA: 0s - loss: 2.3591e-04 - accuracy: 1.0000INFO:tensorflow:Assets written to: models/experiment-1-1/assets\n"
     ]
    },
    {
     "name": "stderr",
     "output_type": "stream",
     "text": [
      "INFO:tensorflow:Assets written to: models/experiment-1-1/assets\n"
     ]
    },
    {
     "name": "stdout",
     "output_type": "stream",
     "text": [
      "610/610 [==============================] - 9s 15ms/step - loss: 2.3638e-04 - accuracy: 1.0000 - val_loss: 2.9853e-04 - val_accuracy: 1.0000\n",
      "Epoch 15/15\n",
      "609/610 [============================>.] - ETA: 0s - loss: 1.7796e-04 - accuracy: 1.0000INFO:tensorflow:Assets written to: models/experiment-1-1/assets\n"
     ]
    },
    {
     "name": "stderr",
     "output_type": "stream",
     "text": [
      "INFO:tensorflow:Assets written to: models/experiment-1-1/assets\n"
     ]
    },
    {
     "name": "stdout",
     "output_type": "stream",
     "text": [
      "610/610 [==============================] - 9s 15ms/step - loss: 1.7792e-04 - accuracy: 1.0000 - val_loss: 2.0171e-04 - val_accuracy: 1.0000\n",
      "Epoch 1/15\n",
      "609/610 [============================>.] - ETA: 0s - loss: 0.9219 - accuracy: 0.7243INFO:tensorflow:Assets written to: models/experiment-1-2/assets\n"
     ]
    },
    {
     "name": "stderr",
     "output_type": "stream",
     "text": [
      "INFO:tensorflow:Assets written to: models/experiment-1-2/assets\n"
     ]
    },
    {
     "name": "stdout",
     "output_type": "stream",
     "text": [
      "610/610 [==============================] - 24s 38ms/step - loss: 0.9214 - accuracy: 0.7245 - val_loss: 0.0843 - val_accuracy: 0.9833\n",
      "Epoch 2/15\n",
      "610/610 [==============================] - ETA: 0s - loss: 0.0250 - accuracy: 0.9967INFO:tensorflow:Assets written to: models/experiment-1-2/assets\n"
     ]
    },
    {
     "name": "stderr",
     "output_type": "stream",
     "text": [
      "INFO:tensorflow:Assets written to: models/experiment-1-2/assets\n"
     ]
    },
    {
     "name": "stdout",
     "output_type": "stream",
     "text": [
      "610/610 [==============================] - 23s 38ms/step - loss: 0.0250 - accuracy: 0.9967 - val_loss: 0.0044 - val_accuracy: 0.9999\n",
      "Epoch 3/15\n",
      "610/610 [==============================] - 23s 38ms/step - loss: 0.0034 - accuracy: 0.9997 - val_loss: 0.0084 - val_accuracy: 0.9989\n",
      "Epoch 4/15\n",
      "610/610 [==============================] - ETA: 0s - loss: 0.0146 - accuracy: 0.9964INFO:tensorflow:Assets written to: models/experiment-1-2/assets\n"
     ]
    },
    {
     "name": "stderr",
     "output_type": "stream",
     "text": [
      "INFO:tensorflow:Assets written to: models/experiment-1-2/assets\n"
     ]
    },
    {
     "name": "stdout",
     "output_type": "stream",
     "text": [
      "610/610 [==============================] - 24s 40ms/step - loss: 0.0146 - accuracy: 0.9964 - val_loss: 5.1144e-04 - val_accuracy: 1.0000\n",
      "Epoch 5/15\n",
      "610/610 [==============================] - ETA: 0s - loss: 3.2755e-04 - accuracy: 1.0000INFO:tensorflow:Assets written to: models/experiment-1-2/assets\n"
     ]
    },
    {
     "name": "stderr",
     "output_type": "stream",
     "text": [
      "INFO:tensorflow:Assets written to: models/experiment-1-2/assets\n"
     ]
    },
    {
     "name": "stdout",
     "output_type": "stream",
     "text": [
      "610/610 [==============================] - 24s 39ms/step - loss: 3.2755e-04 - accuracy: 1.0000 - val_loss: 2.5468e-04 - val_accuracy: 1.0000\n",
      "Epoch 6/15\n",
      "609/610 [============================>.] - ETA: 0s - loss: 1.7792e-04 - accuracy: 1.0000INFO:tensorflow:Assets written to: models/experiment-1-2/assets\n"
     ]
    },
    {
     "name": "stderr",
     "output_type": "stream",
     "text": [
      "INFO:tensorflow:Assets written to: models/experiment-1-2/assets\n"
     ]
    },
    {
     "name": "stdout",
     "output_type": "stream",
     "text": [
      "610/610 [==============================] - 24s 39ms/step - loss: 1.7785e-04 - accuracy: 1.0000 - val_loss: 1.5344e-04 - val_accuracy: 1.0000\n",
      "Epoch 7/15\n",
      "609/610 [============================>.] - ETA: 0s - loss: 1.1233e-04 - accuracy: 1.0000INFO:tensorflow:Assets written to: models/experiment-1-2/assets\n"
     ]
    },
    {
     "name": "stderr",
     "output_type": "stream",
     "text": [
      "INFO:tensorflow:Assets written to: models/experiment-1-2/assets\n"
     ]
    },
    {
     "name": "stdout",
     "output_type": "stream",
     "text": [
      "610/610 [==============================] - 24s 39ms/step - loss: 1.1230e-04 - accuracy: 1.0000 - val_loss: 1.0703e-04 - val_accuracy: 1.0000\n",
      "Epoch 8/15\n",
      "610/610 [==============================] - ETA: 0s - loss: 7.4415e-05 - accuracy: 1.0000INFO:tensorflow:Assets written to: models/experiment-1-2/assets\n"
     ]
    },
    {
     "name": "stderr",
     "output_type": "stream",
     "text": [
      "INFO:tensorflow:Assets written to: models/experiment-1-2/assets\n"
     ]
    },
    {
     "name": "stdout",
     "output_type": "stream",
     "text": [
      "610/610 [==============================] - 24s 39ms/step - loss: 7.4415e-05 - accuracy: 1.0000 - val_loss: 7.1887e-05 - val_accuracy: 1.0000\n",
      "Epoch 9/15\n",
      "608/610 [============================>.] - ETA: 0s - loss: 5.1810e-05 - accuracy: 1.0000INFO:tensorflow:Assets written to: models/experiment-1-2/assets\n"
     ]
    },
    {
     "name": "stderr",
     "output_type": "stream",
     "text": [
      "INFO:tensorflow:Assets written to: models/experiment-1-2/assets\n"
     ]
    },
    {
     "name": "stdout",
     "output_type": "stream",
     "text": [
      "610/610 [==============================] - 22s 36ms/step - loss: 5.1761e-05 - accuracy: 1.0000 - val_loss: 5.0760e-05 - val_accuracy: 1.0000\n",
      "Epoch 10/15\n",
      "608/610 [============================>.] - ETA: 0s - loss: 3.5758e-05 - accuracy: 1.0000INFO:tensorflow:Assets written to: models/experiment-1-2/assets\n"
     ]
    },
    {
     "name": "stderr",
     "output_type": "stream",
     "text": [
      "INFO:tensorflow:Assets written to: models/experiment-1-2/assets\n"
     ]
    },
    {
     "name": "stdout",
     "output_type": "stream",
     "text": [
      "610/610 [==============================] - 22s 36ms/step - loss: 3.5693e-05 - accuracy: 1.0000 - val_loss: 3.7486e-05 - val_accuracy: 1.0000\n",
      "Epoch 11/15\n",
      "608/610 [============================>.] - ETA: 0s - loss: 2.4854e-05 - accuracy: 1.0000INFO:tensorflow:Assets written to: models/experiment-1-2/assets\n"
     ]
    },
    {
     "name": "stderr",
     "output_type": "stream",
     "text": [
      "INFO:tensorflow:Assets written to: models/experiment-1-2/assets\n"
     ]
    },
    {
     "name": "stdout",
     "output_type": "stream",
     "text": [
      "610/610 [==============================] - 22s 36ms/step - loss: 2.4832e-05 - accuracy: 1.0000 - val_loss: 2.9119e-05 - val_accuracy: 1.0000\n",
      "Epoch 12/15\n",
      "610/610 [==============================] - ETA: 0s - loss: 1.7727e-05 - accuracy: 1.0000INFO:tensorflow:Assets written to: models/experiment-1-2/assets\n"
     ]
    },
    {
     "name": "stderr",
     "output_type": "stream",
     "text": [
      "INFO:tensorflow:Assets written to: models/experiment-1-2/assets\n"
     ]
    },
    {
     "name": "stdout",
     "output_type": "stream",
     "text": [
      "610/610 [==============================] - 22s 36ms/step - loss: 1.7727e-05 - accuracy: 1.0000 - val_loss: 2.0351e-05 - val_accuracy: 1.0000\n",
      "Epoch 13/15\n",
      "609/610 [============================>.] - ETA: 0s - loss: 1.2590e-05 - accuracy: 1.0000INFO:tensorflow:Assets written to: models/experiment-1-2/assets\n"
     ]
    },
    {
     "name": "stderr",
     "output_type": "stream",
     "text": [
      "INFO:tensorflow:Assets written to: models/experiment-1-2/assets\n"
     ]
    },
    {
     "name": "stdout",
     "output_type": "stream",
     "text": [
      "610/610 [==============================] - 23s 37ms/step - loss: 1.2587e-05 - accuracy: 1.0000 - val_loss: 1.4179e-05 - val_accuracy: 1.0000\n",
      "Epoch 14/15\n",
      "608/610 [============================>.] - ETA: 0s - loss: 8.7683e-06 - accuracy: 1.0000INFO:tensorflow:Assets written to: models/experiment-1-2/assets\n"
     ]
    },
    {
     "name": "stderr",
     "output_type": "stream",
     "text": [
      "INFO:tensorflow:Assets written to: models/experiment-1-2/assets\n"
     ]
    },
    {
     "name": "stdout",
     "output_type": "stream",
     "text": [
      "610/610 [==============================] - 22s 36ms/step - loss: 8.7668e-06 - accuracy: 1.0000 - val_loss: 1.0918e-05 - val_accuracy: 1.0000\n",
      "Epoch 15/15\n",
      "609/610 [============================>.] - ETA: 0s - loss: 6.5595e-06 - accuracy: 1.0000INFO:tensorflow:Assets written to: models/experiment-1-2/assets\n"
     ]
    },
    {
     "name": "stderr",
     "output_type": "stream",
     "text": [
      "INFO:tensorflow:Assets written to: models/experiment-1-2/assets\n"
     ]
    },
    {
     "name": "stdout",
     "output_type": "stream",
     "text": [
      "610/610 [==============================] - 22s 36ms/step - loss: 6.5593e-06 - accuracy: 1.0000 - val_loss: 8.3865e-06 - val_accuracy: 1.0000\n",
      "Epoch 1/15\n",
      "610/610 [==============================] - ETA: 0s - loss: 0.9734 - accuracy: 0.6987INFO:tensorflow:Assets written to: models/experiment-1-3/assets\n"
     ]
    },
    {
     "name": "stderr",
     "output_type": "stream",
     "text": [
      "INFO:tensorflow:Assets written to: models/experiment-1-3/assets\n"
     ]
    },
    {
     "name": "stdout",
     "output_type": "stream",
     "text": [
      "610/610 [==============================] - 29s 46ms/step - loss: 0.9734 - accuracy: 0.6987 - val_loss: 0.1025 - val_accuracy: 0.9712\n",
      "Epoch 2/15\n",
      "609/610 [============================>.] - ETA: 0s - loss: 0.0364 - accuracy: 0.9915INFO:tensorflow:Assets written to: models/experiment-1-3/assets\n"
     ]
    },
    {
     "name": "stderr",
     "output_type": "stream",
     "text": [
      "INFO:tensorflow:Assets written to: models/experiment-1-3/assets\n"
     ]
    },
    {
     "name": "stdout",
     "output_type": "stream",
     "text": [
      "610/610 [==============================] - 29s 48ms/step - loss: 0.0364 - accuracy: 0.9915 - val_loss: 0.0125 - val_accuracy: 0.9959\n",
      "Epoch 3/15\n",
      "609/610 [============================>.] - ETA: 0s - loss: 0.0020 - accuracy: 0.9998INFO:tensorflow:Assets written to: models/experiment-1-3/assets\n"
     ]
    },
    {
     "name": "stderr",
     "output_type": "stream",
     "text": [
      "INFO:tensorflow:Assets written to: models/experiment-1-3/assets\n"
     ]
    },
    {
     "name": "stdout",
     "output_type": "stream",
     "text": [
      "610/610 [==============================] - 35s 58ms/step - loss: 0.0020 - accuracy: 0.9998 - val_loss: 5.2140e-04 - val_accuracy: 1.0000\n",
      "Epoch 4/15\n",
      "609/610 [============================>.] - ETA: 0s - loss: 3.2462e-04 - accuracy: 1.0000INFO:tensorflow:Assets written to: models/experiment-1-3/assets\n"
     ]
    },
    {
     "name": "stderr",
     "output_type": "stream",
     "text": [
      "INFO:tensorflow:Assets written to: models/experiment-1-3/assets\n"
     ]
    },
    {
     "name": "stdout",
     "output_type": "stream",
     "text": [
      "610/610 [==============================] - 30s 49ms/step - loss: 3.2445e-04 - accuracy: 1.0000 - val_loss: 2.6270e-04 - val_accuracy: 1.0000\n",
      "Epoch 5/15\n",
      "610/610 [==============================] - ETA: 0s - loss: 1.9072e-04 - accuracy: 1.0000INFO:tensorflow:Assets written to: models/experiment-1-3/assets\n"
     ]
    },
    {
     "name": "stderr",
     "output_type": "stream",
     "text": [
      "INFO:tensorflow:Assets written to: models/experiment-1-3/assets\n"
     ]
    },
    {
     "name": "stdout",
     "output_type": "stream",
     "text": [
      "610/610 [==============================] - 28s 47ms/step - loss: 1.9072e-04 - accuracy: 1.0000 - val_loss: 2.2796e-04 - val_accuracy: 1.0000\n",
      "Epoch 6/15\n",
      "609/610 [============================>.] - ETA: 0s - loss: 1.1068e-04 - accuracy: 1.0000INFO:tensorflow:Assets written to: models/experiment-1-3/assets\n"
     ]
    },
    {
     "name": "stderr",
     "output_type": "stream",
     "text": [
      "INFO:tensorflow:Assets written to: models/experiment-1-3/assets\n"
     ]
    },
    {
     "name": "stdout",
     "output_type": "stream",
     "text": [
      "610/610 [==============================] - 28s 46ms/step - loss: 1.1066e-04 - accuracy: 1.0000 - val_loss: 1.0372e-04 - val_accuracy: 1.0000\n",
      "Epoch 7/15\n",
      "610/610 [==============================] - ETA: 0s - loss: 6.6953e-05 - accuracy: 1.0000INFO:tensorflow:Assets written to: models/experiment-1-3/assets\n"
     ]
    },
    {
     "name": "stderr",
     "output_type": "stream",
     "text": [
      "INFO:tensorflow:Assets written to: models/experiment-1-3/assets\n"
     ]
    },
    {
     "name": "stdout",
     "output_type": "stream",
     "text": [
      "610/610 [==============================] - 28s 46ms/step - loss: 6.6953e-05 - accuracy: 1.0000 - val_loss: 7.4667e-05 - val_accuracy: 1.0000\n",
      "Epoch 8/15\n",
      "609/610 [============================>.] - ETA: 0s - loss: 4.4474e-05 - accuracy: 1.0000INFO:tensorflow:Assets written to: models/experiment-1-3/assets\n"
     ]
    },
    {
     "name": "stderr",
     "output_type": "stream",
     "text": [
      "INFO:tensorflow:Assets written to: models/experiment-1-3/assets\n"
     ]
    },
    {
     "name": "stdout",
     "output_type": "stream",
     "text": [
      "610/610 [==============================] - 28s 46ms/step - loss: 4.4457e-05 - accuracy: 1.0000 - val_loss: 5.4112e-05 - val_accuracy: 1.0000\n",
      "Epoch 9/15\n",
      "609/610 [============================>.] - ETA: 0s - loss: 3.0360e-05 - accuracy: 1.0000INFO:tensorflow:Assets written to: models/experiment-1-3/assets\n"
     ]
    },
    {
     "name": "stderr",
     "output_type": "stream",
     "text": [
      "INFO:tensorflow:Assets written to: models/experiment-1-3/assets\n"
     ]
    },
    {
     "name": "stdout",
     "output_type": "stream",
     "text": [
      "610/610 [==============================] - 27s 44ms/step - loss: 3.0348e-05 - accuracy: 1.0000 - val_loss: 3.5408e-05 - val_accuracy: 1.0000\n",
      "Epoch 10/15\n",
      "609/610 [============================>.] - ETA: 0s - loss: 2.0450e-05 - accuracy: 1.0000INFO:tensorflow:Assets written to: models/experiment-1-3/assets\n"
     ]
    },
    {
     "name": "stderr",
     "output_type": "stream",
     "text": [
      "INFO:tensorflow:Assets written to: models/experiment-1-3/assets\n"
     ]
    },
    {
     "name": "stdout",
     "output_type": "stream",
     "text": [
      "610/610 [==============================] - 28s 45ms/step - loss: 2.0442e-05 - accuracy: 1.0000 - val_loss: 2.6197e-05 - val_accuracy: 1.0000\n",
      "Epoch 11/15\n",
      "609/610 [============================>.] - ETA: 0s - loss: 1.3787e-05 - accuracy: 1.0000INFO:tensorflow:Assets written to: models/experiment-1-3/assets\n"
     ]
    },
    {
     "name": "stderr",
     "output_type": "stream",
     "text": [
      "INFO:tensorflow:Assets written to: models/experiment-1-3/assets\n"
     ]
    },
    {
     "name": "stdout",
     "output_type": "stream",
     "text": [
      "610/610 [==============================] - 28s 46ms/step - loss: 1.3780e-05 - accuracy: 1.0000 - val_loss: 1.9488e-05 - val_accuracy: 1.0000\n",
      "Epoch 12/15\n",
      "609/610 [============================>.] - ETA: 0s - loss: 9.5632e-06 - accuracy: 1.0000INFO:tensorflow:Assets written to: models/experiment-1-3/assets\n"
     ]
    },
    {
     "name": "stderr",
     "output_type": "stream",
     "text": [
      "INFO:tensorflow:Assets written to: models/experiment-1-3/assets\n"
     ]
    },
    {
     "name": "stdout",
     "output_type": "stream",
     "text": [
      "610/610 [==============================] - 28s 46ms/step - loss: 9.5623e-06 - accuracy: 1.0000 - val_loss: 1.7148e-05 - val_accuracy: 1.0000\n",
      "Epoch 13/15\n",
      "610/610 [==============================] - ETA: 0s - loss: 6.6635e-06 - accuracy: 1.0000INFO:tensorflow:Assets written to: models/experiment-1-3/assets\n"
     ]
    },
    {
     "name": "stderr",
     "output_type": "stream",
     "text": [
      "INFO:tensorflow:Assets written to: models/experiment-1-3/assets\n"
     ]
    },
    {
     "name": "stdout",
     "output_type": "stream",
     "text": [
      "610/610 [==============================] - 27s 44ms/step - loss: 6.6635e-06 - accuracy: 1.0000 - val_loss: 9.9375e-06 - val_accuracy: 1.0000\n",
      "Epoch 14/15\n",
      "609/610 [============================>.] - ETA: 0s - loss: 4.7223e-06 - accuracy: 1.0000INFO:tensorflow:Assets written to: models/experiment-1-3/assets\n"
     ]
    },
    {
     "name": "stderr",
     "output_type": "stream",
     "text": [
      "INFO:tensorflow:Assets written to: models/experiment-1-3/assets\n"
     ]
    },
    {
     "name": "stdout",
     "output_type": "stream",
     "text": [
      "610/610 [==============================] - 27s 45ms/step - loss: 4.7199e-06 - accuracy: 1.0000 - val_loss: 9.2513e-06 - val_accuracy: 1.0000\n",
      "Epoch 15/15\n",
      "609/610 [============================>.] - ETA: 0s - loss: 3.1083e-06 - accuracy: 1.0000INFO:tensorflow:Assets written to: models/experiment-1-3/assets\n"
     ]
    },
    {
     "name": "stderr",
     "output_type": "stream",
     "text": [
      "INFO:tensorflow:Assets written to: models/experiment-1-3/assets\n"
     ]
    },
    {
     "name": "stdout",
     "output_type": "stream",
     "text": [
      "610/610 [==============================] - 28s 46ms/step - loss: 3.1068e-06 - accuracy: 1.0000 - val_loss: 4.8966e-06 - val_accuracy: 1.0000\n"
     ]
    }
   ],
   "source": [
    "n_pairs = 3\n",
    "models_pairs = [keras.models.Sequential() for i in range(n_pairs)]\n",
    "early_stopping_cb = keras.callbacks.EarlyStopping(patience=5)\n",
    "\n",
    "for n in range(1, n_pairs+1):\n",
    "    models_pairs[n-1].add(keras.layers.Conv2D(32, (5, 5), padding='same', activation='relu', input_shape=(28, 28, 1)))\n",
    "    models_pairs[n-1].add(keras.layers.MaxPooling2D(pool_size=(2, 2)))\n",
    "    for i in range(1, n):\n",
    "        models_pairs[n-1].add(keras.layers.Conv2D(32*(i+1), (5, 5), padding='same', activation='relu'))\n",
    "        models_pairs[n-1].add(keras.layers.MaxPooling2D(pool_size=(2, 2)))\n",
    "    models_pairs[n-1].add(keras.layers.Flatten())\n",
    "    models_pairs[n-1].add(keras.layers.Dense(128, activation='relu'))\n",
    "    models_pairs[n-1].add(keras.layers.Dense(24, activation='softmax'))\n",
    "    models_pairs[n-1].compile(loss='categorical_crossentropy', optimizer='adam', metrics=['accuracy'])\n",
    "    save_best_cb = keras.callbacks.ModelCheckpoint(f'models/experiment-1-{n}', save_best_only=True)\n",
    "    history = models_pairs[n-1].fit(X_train, y_train, epochs=15, validation_data=(X_valid, y_valid), callbacks=[save_best_cb, early_stopping_cb])\n",
    "    with open(f'models/experiment-1-{n}-history', 'wb') as history_file:\n",
    "        pickle.dump(history.history, history_file)"
   ]
  },
  {
   "cell_type": "code",
   "execution_count": 40,
   "id": "fe1939d8",
   "metadata": {
    "scrolled": false
   },
   "outputs": [
    {
     "name": "stdout",
     "output_type": "stream",
     "text": [
      "Model: \"sequential_1\"\n",
      "_________________________________________________________________\n",
      " Layer (type)                Output Shape              Param #   \n",
      "=================================================================\n",
      " conv2d_3 (Conv2D)           (None, 28, 28, 32)        832       \n",
      "                                                                 \n",
      " max_pooling2d_3 (MaxPoolin  (None, 14, 14, 32)        0         \n",
      " g2D)                                                            \n",
      "                                                                 \n",
      " flatten_1 (Flatten)         (None, 6272)              0         \n",
      "                                                                 \n",
      " dense_2 (Dense)             (None, 128)               802944    \n",
      "                                                                 \n",
      " dense_3 (Dense)             (None, 24)                3096      \n",
      "                                                                 \n",
      "=================================================================\n",
      "Total params: 806872 (3.08 MB)\n",
      "Trainable params: 806872 (3.08 MB)\n",
      "Non-trainable params: 0 (0.00 Byte)\n",
      "_________________________________________________________________\n"
     ]
    }
   ],
   "source": [
    "models_pairs[0].summary()"
   ]
  },
  {
   "cell_type": "code",
   "execution_count": 41,
   "id": "8945d1b6",
   "metadata": {
    "scrolled": true
   },
   "outputs": [
    {
     "name": "stdout",
     "output_type": "stream",
     "text": [
      "Model: \"sequential_2\"\n",
      "_________________________________________________________________\n",
      " Layer (type)                Output Shape              Param #   \n",
      "=================================================================\n",
      " conv2d_4 (Conv2D)           (None, 28, 28, 32)        832       \n",
      "                                                                 \n",
      " max_pooling2d_4 (MaxPoolin  (None, 14, 14, 32)        0         \n",
      " g2D)                                                            \n",
      "                                                                 \n",
      " conv2d_5 (Conv2D)           (None, 14, 14, 64)        51264     \n",
      "                                                                 \n",
      " max_pooling2d_5 (MaxPoolin  (None, 7, 7, 64)          0         \n",
      " g2D)                                                            \n",
      "                                                                 \n",
      " flatten_2 (Flatten)         (None, 3136)              0         \n",
      "                                                                 \n",
      " dense_4 (Dense)             (None, 128)               401536    \n",
      "                                                                 \n",
      " dense_5 (Dense)             (None, 24)                3096      \n",
      "                                                                 \n",
      "=================================================================\n",
      "Total params: 456728 (1.74 MB)\n",
      "Trainable params: 456728 (1.74 MB)\n",
      "Non-trainable params: 0 (0.00 Byte)\n",
      "_________________________________________________________________\n"
     ]
    }
   ],
   "source": [
    "models_pairs[1].summary()"
   ]
  },
  {
   "cell_type": "code",
   "execution_count": 42,
   "id": "c7a0122c",
   "metadata": {
    "scrolled": true
   },
   "outputs": [
    {
     "name": "stdout",
     "output_type": "stream",
     "text": [
      "Model: \"sequential_3\"\n",
      "_________________________________________________________________\n",
      " Layer (type)                Output Shape              Param #   \n",
      "=================================================================\n",
      " conv2d_6 (Conv2D)           (None, 28, 28, 32)        832       \n",
      "                                                                 \n",
      " max_pooling2d_6 (MaxPoolin  (None, 14, 14, 32)        0         \n",
      " g2D)                                                            \n",
      "                                                                 \n",
      " conv2d_7 (Conv2D)           (None, 14, 14, 64)        51264     \n",
      "                                                                 \n",
      " max_pooling2d_7 (MaxPoolin  (None, 7, 7, 64)          0         \n",
      " g2D)                                                            \n",
      "                                                                 \n",
      " conv2d_8 (Conv2D)           (None, 7, 7, 96)          153696    \n",
      "                                                                 \n",
      " max_pooling2d_8 (MaxPoolin  (None, 3, 3, 96)          0         \n",
      " g2D)                                                            \n",
      "                                                                 \n",
      " flatten_3 (Flatten)         (None, 864)               0         \n",
      "                                                                 \n",
      " dense_6 (Dense)             (None, 128)               110720    \n",
      "                                                                 \n",
      " dense_7 (Dense)             (None, 24)                3096      \n",
      "                                                                 \n",
      "=================================================================\n",
      "Total params: 319608 (1.22 MB)\n",
      "Trainable params: 319608 (1.22 MB)\n",
      "Non-trainable params: 0 (0.00 Byte)\n",
      "_________________________________________________________________\n"
     ]
    }
   ],
   "source": [
    "models_pairs[2].summary()"
   ]
  },
  {
   "cell_type": "code",
   "execution_count": 43,
   "id": "f5e21d6c",
   "metadata": {},
   "outputs": [
    {
     "name": "stdout",
     "output_type": "stream",
     "text": [
      "249/249 [==============================] - 1s 2ms/step - loss: 2.0171e-04 - accuracy: 1.0000\n",
      "249/249 [==============================] - 2s 5ms/step - loss: 8.3865e-06 - accuracy: 1.0000\n",
      "249/249 [==============================] - 2s 7ms/step - loss: 4.8966e-06 - accuracy: 1.0000\n"
     ]
    }
   ],
   "source": [
    "for index in range(n_pairs):\n",
    "    model = keras.models.load_model(f'models/experiment-1-{index+1}')\n",
    "    model.evaluate(X_valid, y_valid)"
   ]
  },
  {
   "cell_type": "code",
   "execution_count": 44,
   "id": "83c8007b",
   "metadata": {},
   "outputs": [],
   "source": [
    "h_1_1 = np.load('models/experiment-1-1-history', allow_pickle=True)\n",
    "h_1_2 = np.load('models/experiment-1-2-history', allow_pickle=True)\n",
    "h_1_3 = np.load('models/experiment-1-3-history', allow_pickle=True)"
   ]
  },
  {
   "cell_type": "code",
   "execution_count": 45,
   "id": "b62ddb38",
   "metadata": {},
   "outputs": [
    {
     "data": {
      "image/png": "[encoded data removed]",
      "text/plain": [
       "<Figure size 1000x500 with 1 Axes>"
      ]
     },
     "metadata": {},
     "output_type": "display_data"
    }
   ],
   "source": [
    "get_train_val_plots(h_1_1, yticks=np.arange(0, 1.2, 0.1))"
   ]
  },
  {
   "cell_type": "code",
   "execution_count": 46,
   "id": "32fe1158",
   "metadata": {},
   "outputs": [
    {
     "data": {
      "image/png": "[encoded data removed]",
      "text/plain": [
       "<Figure size 1000x500 with 1 Axes>"
      ]
     },
     "metadata": {},
     "output_type": "display_data"
    }
   ],
   "source": [
    "get_train_val_plots(h_1_2, yticks=np.arange(0, 1.2, 0.1))"
   ]
  },
  {
   "cell_type": "code",
   "execution_count": 47,
   "id": "30310268",
   "metadata": {},
   "outputs": [
    {
     "data": {
      "image/png": "[encoded data removed]",
      "text/plain": [
       "<Figure size 1000x500 with 1 Axes>"
      ]
     },
     "metadata": {},
     "output_type": "display_data"
    }
   ],
   "source": [
    "get_train_val_plots(h_1_3, yticks=np.arange(0, 1.2, 0.1))"
   ]
  },
  {
   "cell_type": "markdown",
   "id": "28be53a8",
   "metadata": {},
   "source": [
    "When assessed on the validation dataset, Model 3 showcases the minimal loss."
   ]
  },
  {
   "cell_type": "code",
   "execution_count": 48,
   "id": "51ff2cb0",
   "metadata": {
    "scrolled": true
   },
   "outputs": [
    {
     "name": "stdout",
     "output_type": "stream",
     "text": [
      "Epoch 1/10\n",
      "609/610 [============================>.] - ETA: 0s - loss: 1.3179 - accuracy: 0.5939INFO:tensorflow:Assets written to: models/fmaps-1/assets\n"
     ]
    },
    {
     "name": "stderr",
     "output_type": "stream",
     "text": [
      "INFO:tensorflow:Assets written to: models/fmaps-1/assets\n"
     ]
    },
    {
     "name": "stdout",
     "output_type": "stream",
     "text": [
      "610/610 [==============================] - 11s 16ms/step - loss: 1.3172 - accuracy: 0.5941 - val_loss: 0.3259 - val_accuracy: 0.9083\n",
      "Epoch 2/10\n",
      "609/610 [============================>.] - ETA: 0s - loss: 0.1543 - accuracy: 0.9525INFO:tensorflow:Assets written to: models/fmaps-1/assets\n"
     ]
    },
    {
     "name": "stderr",
     "output_type": "stream",
     "text": [
      "INFO:tensorflow:Assets written to: models/fmaps-1/assets\n"
     ]
    },
    {
     "name": "stdout",
     "output_type": "stream",
     "text": [
      "610/610 [==============================] - 10s 16ms/step - loss: 0.1542 - accuracy: 0.9526 - val_loss: 0.0899 - val_accuracy: 0.9700\n",
      "Epoch 3/10\n",
      "609/610 [============================>.] - ETA: 0s - loss: 0.0383 - accuracy: 0.9908INFO:tensorflow:Assets written to: models/fmaps-1/assets\n"
     ]
    },
    {
     "name": "stderr",
     "output_type": "stream",
     "text": [
      "INFO:tensorflow:Assets written to: models/fmaps-1/assets\n"
     ]
    },
    {
     "name": "stdout",
     "output_type": "stream",
     "text": [
      "610/610 [==============================] - 10s 16ms/step - loss: 0.0383 - accuracy: 0.9908 - val_loss: 0.0077 - val_accuracy: 0.9996\n",
      "Epoch 4/10\n",
      "610/610 [==============================] - 9s 14ms/step - loss: 0.0339 - accuracy: 0.9912 - val_loss: 0.0112 - val_accuracy: 0.9977\n",
      "Epoch 5/10\n",
      "607/610 [============================>.] - ETA: 0s - loss: 0.0015 - accuracy: 1.0000INFO:tensorflow:Assets written to: models/fmaps-1/assets\n"
     ]
    },
    {
     "name": "stderr",
     "output_type": "stream",
     "text": [
      "INFO:tensorflow:Assets written to: models/fmaps-1/assets\n"
     ]
    },
    {
     "name": "stdout",
     "output_type": "stream",
     "text": [
      "610/610 [==============================] - 10s 16ms/step - loss: 0.0015 - accuracy: 1.0000 - val_loss: 7.0594e-04 - val_accuracy: 1.0000\n",
      "Epoch 6/10\n",
      "610/610 [==============================] - ETA: 0s - loss: 4.6091e-04 - accuracy: 1.0000INFO:tensorflow:Assets written to: models/fmaps-1/assets\n"
     ]
    },
    {
     "name": "stderr",
     "output_type": "stream",
     "text": [
      "INFO:tensorflow:Assets written to: models/fmaps-1/assets\n"
     ]
    },
    {
     "name": "stdout",
     "output_type": "stream",
     "text": [
      "610/610 [==============================] - 10s 16ms/step - loss: 4.6091e-04 - accuracy: 1.0000 - val_loss: 4.3714e-04 - val_accuracy: 1.0000\n",
      "Epoch 7/10\n",
      "608/610 [============================>.] - ETA: 0s - loss: 2.8152e-04 - accuracy: 1.0000INFO:tensorflow:Assets written to: models/fmaps-1/assets\n"
     ]
    },
    {
     "name": "stderr",
     "output_type": "stream",
     "text": [
      "INFO:tensorflow:Assets written to: models/fmaps-1/assets\n"
     ]
    },
    {
     "name": "stdout",
     "output_type": "stream",
     "text": [
      "610/610 [==============================] - 10s 16ms/step - loss: 2.8132e-04 - accuracy: 1.0000 - val_loss: 2.5879e-04 - val_accuracy: 1.0000\n",
      "Epoch 8/10\n",
      "608/610 [============================>.] - ETA: 0s - loss: 1.8144e-04 - accuracy: 1.0000INFO:tensorflow:Assets written to: models/fmaps-1/assets\n"
     ]
    },
    {
     "name": "stderr",
     "output_type": "stream",
     "text": [
      "INFO:tensorflow:Assets written to: models/fmaps-1/assets\n"
     ]
    },
    {
     "name": "stdout",
     "output_type": "stream",
     "text": [
      "610/610 [==============================] - 10s 16ms/step - loss: 1.8163e-04 - accuracy: 1.0000 - val_loss: 1.7641e-04 - val_accuracy: 1.0000\n",
      "Epoch 9/10\n",
      "608/610 [============================>.] - ETA: 0s - loss: 1.2892e-04 - accuracy: 1.0000INFO:tensorflow:Assets written to: models/fmaps-1/assets\n"
     ]
    },
    {
     "name": "stderr",
     "output_type": "stream",
     "text": [
      "INFO:tensorflow:Assets written to: models/fmaps-1/assets\n"
     ]
    },
    {
     "name": "stdout",
     "output_type": "stream",
     "text": [
      "610/610 [==============================] - 10s 16ms/step - loss: 1.2880e-04 - accuracy: 1.0000 - val_loss: 1.1915e-04 - val_accuracy: 1.0000\n",
      "Epoch 10/10\n",
      "606/610 [============================>.] - ETA: 0s - loss: 8.8054e-05 - accuracy: 1.0000INFO:tensorflow:Assets written to: models/fmaps-1/assets\n"
     ]
    },
    {
     "name": "stderr",
     "output_type": "stream",
     "text": [
      "INFO:tensorflow:Assets written to: models/fmaps-1/assets\n"
     ]
    },
    {
     "name": "stdout",
     "output_type": "stream",
     "text": [
      "610/610 [==============================] - 10s 16ms/step - loss: 8.7942e-05 - accuracy: 1.0000 - val_loss: 8.8976e-05 - val_accuracy: 1.0000\n",
      "Epoch 1/10\n",
      "609/610 [============================>.] - ETA: 0s - loss: 1.1964 - accuracy: 0.6256INFO:tensorflow:Assets written to: models/fmaps-2/assets\n"
     ]
    },
    {
     "name": "stderr",
     "output_type": "stream",
     "text": [
      "INFO:tensorflow:Assets written to: models/fmaps-2/assets\n"
     ]
    },
    {
     "name": "stdout",
     "output_type": "stream",
     "text": [
      "610/610 [==============================] - 14s 22ms/step - loss: 1.1958 - accuracy: 0.6257 - val_loss: 0.2163 - val_accuracy: 0.9296\n",
      "Epoch 2/10\n",
      "608/610 [============================>.] - ETA: 0s - loss: 0.0880 - accuracy: 0.9745INFO:tensorflow:Assets written to: models/fmaps-2/assets\n"
     ]
    },
    {
     "name": "stderr",
     "output_type": "stream",
     "text": [
      "INFO:tensorflow:Assets written to: models/fmaps-2/assets\n"
     ]
    },
    {
     "name": "stdout",
     "output_type": "stream",
     "text": [
      "610/610 [==============================] - 14s 24ms/step - loss: 0.0879 - accuracy: 0.9745 - val_loss: 0.0656 - val_accuracy: 0.9803\n",
      "Epoch 3/10\n",
      "608/610 [============================>.] - ETA: 0s - loss: 0.0277 - accuracy: 0.9924INFO:tensorflow:Assets written to: models/fmaps-2/assets\n"
     ]
    },
    {
     "name": "stderr",
     "output_type": "stream",
     "text": [
      "INFO:tensorflow:Assets written to: models/fmaps-2/assets\n"
     ]
    },
    {
     "name": "stdout",
     "output_type": "stream",
     "text": [
      "610/610 [==============================] - 17s 28ms/step - loss: 0.0276 - accuracy: 0.9925 - val_loss: 0.0018 - val_accuracy: 1.0000\n",
      "Epoch 4/10\n",
      "608/610 [============================>.] - ETA: 0s - loss: 9.2544e-04 - accuracy: 1.0000INFO:tensorflow:Assets written to: models/fmaps-2/assets\n"
     ]
    },
    {
     "name": "stderr",
     "output_type": "stream",
     "text": [
      "INFO:tensorflow:Assets written to: models/fmaps-2/assets\n"
     ]
    },
    {
     "name": "stdout",
     "output_type": "stream",
     "text": [
      "610/610 [==============================] - 15s 25ms/step - loss: 9.2543e-04 - accuracy: 1.0000 - val_loss: 5.6881e-04 - val_accuracy: 1.0000\n",
      "Epoch 5/10\n",
      "608/610 [============================>.] - ETA: 0s - loss: 3.8647e-04 - accuracy: 1.0000INFO:tensorflow:Assets written to: models/fmaps-2/assets\n"
     ]
    },
    {
     "name": "stderr",
     "output_type": "stream",
     "text": [
      "INFO:tensorflow:Assets written to: models/fmaps-2/assets\n"
     ]
    },
    {
     "name": "stdout",
     "output_type": "stream",
     "text": [
      "610/610 [==============================] - 16s 26ms/step - loss: 3.8646e-04 - accuracy: 1.0000 - val_loss: 4.2252e-04 - val_accuracy: 1.0000\n",
      "Epoch 6/10\n",
      "609/610 [============================>.] - ETA: 0s - loss: 2.3474e-04 - accuracy: 1.0000INFO:tensorflow:Assets written to: models/fmaps-2/assets\n"
     ]
    },
    {
     "name": "stderr",
     "output_type": "stream",
     "text": [
      "INFO:tensorflow:Assets written to: models/fmaps-2/assets\n"
     ]
    },
    {
     "name": "stdout",
     "output_type": "stream",
     "text": [
      "610/610 [==============================] - 17s 28ms/step - loss: 2.3472e-04 - accuracy: 1.0000 - val_loss: 2.2734e-04 - val_accuracy: 1.0000\n",
      "Epoch 7/10\n",
      "608/610 [============================>.] - ETA: 0s - loss: 1.5324e-04 - accuracy: 1.0000INFO:tensorflow:Assets written to: models/fmaps-2/assets\n"
     ]
    },
    {
     "name": "stderr",
     "output_type": "stream",
     "text": [
      "INFO:tensorflow:Assets written to: models/fmaps-2/assets\n"
     ]
    },
    {
     "name": "stdout",
     "output_type": "stream",
     "text": [
      "610/610 [==============================] - 17s 27ms/step - loss: 1.5313e-04 - accuracy: 1.0000 - val_loss: 1.4979e-04 - val_accuracy: 1.0000\n",
      "Epoch 8/10\n",
      "610/610 [==============================] - ETA: 0s - loss: 1.0368e-04 - accuracy: 1.0000INFO:tensorflow:Assets written to: models/fmaps-2/assets\n"
     ]
    },
    {
     "name": "stderr",
     "output_type": "stream",
     "text": [
      "INFO:tensorflow:Assets written to: models/fmaps-2/assets\n"
     ]
    },
    {
     "name": "stdout",
     "output_type": "stream",
     "text": [
      "610/610 [==============================] - 14s 23ms/step - loss: 1.0368e-04 - accuracy: 1.0000 - val_loss: 1.0986e-04 - val_accuracy: 1.0000\n",
      "Epoch 9/10\n",
      "609/610 [============================>.] - ETA: 0s - loss: 6.8289e-05 - accuracy: 1.0000INFO:tensorflow:Assets written to: models/fmaps-2/assets\n"
     ]
    },
    {
     "name": "stderr",
     "output_type": "stream",
     "text": [
      "INFO:tensorflow:Assets written to: models/fmaps-2/assets\n"
     ]
    },
    {
     "name": "stdout",
     "output_type": "stream",
     "text": [
      "610/610 [==============================] - 14s 23ms/step - loss: 6.8291e-05 - accuracy: 1.0000 - val_loss: 7.2872e-05 - val_accuracy: 1.0000\n",
      "Epoch 10/10\n",
      "610/610 [==============================] - ETA: 0s - loss: 4.8555e-05 - accuracy: 1.0000INFO:tensorflow:Assets written to: models/fmaps-2/assets\n"
     ]
    },
    {
     "name": "stderr",
     "output_type": "stream",
     "text": [
      "INFO:tensorflow:Assets written to: models/fmaps-2/assets\n"
     ]
    },
    {
     "name": "stdout",
     "output_type": "stream",
     "text": [
      "610/610 [==============================] - 16s 27ms/step - loss: 4.8555e-05 - accuracy: 1.0000 - val_loss: 5.4215e-05 - val_accuracy: 1.0000\n",
      "Epoch 1/10\n",
      "608/610 [============================>.] - ETA: 0s - loss: 1.0003 - accuracy: 0.6895INFO:tensorflow:Assets written to: models/fmaps-3/assets\n"
     ]
    },
    {
     "name": "stderr",
     "output_type": "stream",
     "text": [
      "INFO:tensorflow:Assets written to: models/fmaps-3/assets\n"
     ]
    },
    {
     "name": "stdout",
     "output_type": "stream",
     "text": [
      "610/610 [==============================] - 23s 36ms/step - loss: 0.9982 - accuracy: 0.6902 - val_loss: 0.0819 - val_accuracy: 0.9814\n",
      "Epoch 2/10\n",
      "608/610 [============================>.] - ETA: 0s - loss: 0.0408 - accuracy: 0.9900INFO:tensorflow:Assets written to: models/fmaps-3/assets\n"
     ]
    },
    {
     "name": "stderr",
     "output_type": "stream",
     "text": [
      "INFO:tensorflow:Assets written to: models/fmaps-3/assets\n"
     ]
    },
    {
     "name": "stdout",
     "output_type": "stream",
     "text": [
      "610/610 [==============================] - 22s 36ms/step - loss: 0.0407 - accuracy: 0.9900 - val_loss: 0.0244 - val_accuracy: 0.9942\n",
      "Epoch 3/10\n",
      "609/610 [============================>.] - ETA: 0s - loss: 0.0119 - accuracy: 0.9968INFO:tensorflow:Assets written to: models/fmaps-3/assets\n"
     ]
    },
    {
     "name": "stderr",
     "output_type": "stream",
     "text": [
      "INFO:tensorflow:Assets written to: models/fmaps-3/assets\n"
     ]
    },
    {
     "name": "stdout",
     "output_type": "stream",
     "text": [
      "610/610 [==============================] - 24s 40ms/step - loss: 0.0119 - accuracy: 0.9968 - val_loss: 0.0077 - val_accuracy: 0.9986\n",
      "Epoch 4/10\n",
      "609/610 [============================>.] - ETA: 0s - loss: 0.0019 - accuracy: 0.9998INFO:tensorflow:Assets written to: models/fmaps-3/assets\n"
     ]
    },
    {
     "name": "stderr",
     "output_type": "stream",
     "text": [
      "INFO:tensorflow:Assets written to: models/fmaps-3/assets\n"
     ]
    },
    {
     "name": "stdout",
     "output_type": "stream",
     "text": [
      "610/610 [==============================] - 22s 37ms/step - loss: 0.0019 - accuracy: 0.9998 - val_loss: 3.0007e-04 - val_accuracy: 1.0000\n",
      "Epoch 5/10\n",
      "609/610 [============================>.] - ETA: 0s - loss: 1.8120e-04 - accuracy: 1.0000INFO:tensorflow:Assets written to: models/fmaps-3/assets\n"
     ]
    },
    {
     "name": "stderr",
     "output_type": "stream",
     "text": [
      "INFO:tensorflow:Assets written to: models/fmaps-3/assets\n"
     ]
    },
    {
     "name": "stdout",
     "output_type": "stream",
     "text": [
      "610/610 [==============================] - 22s 36ms/step - loss: 1.8116e-04 - accuracy: 1.0000 - val_loss: 1.6216e-04 - val_accuracy: 1.0000\n",
      "Epoch 6/10\n",
      "609/610 [============================>.] - ETA: 0s - loss: 1.0520e-04 - accuracy: 1.0000INFO:tensorflow:Assets written to: models/fmaps-3/assets\n"
     ]
    },
    {
     "name": "stderr",
     "output_type": "stream",
     "text": [
      "INFO:tensorflow:Assets written to: models/fmaps-3/assets\n"
     ]
    },
    {
     "name": "stdout",
     "output_type": "stream",
     "text": [
      "610/610 [==============================] - 24s 40ms/step - loss: 1.0524e-04 - accuracy: 1.0000 - val_loss: 1.0936e-04 - val_accuracy: 1.0000\n",
      "Epoch 7/10\n",
      "610/610 [==============================] - ETA: 0s - loss: 6.8249e-05 - accuracy: 1.0000INFO:tensorflow:Assets written to: models/fmaps-3/assets\n"
     ]
    },
    {
     "name": "stderr",
     "output_type": "stream",
     "text": [
      "INFO:tensorflow:Assets written to: models/fmaps-3/assets\n"
     ]
    },
    {
     "name": "stdout",
     "output_type": "stream",
     "text": [
      "610/610 [==============================] - 29s 48ms/step - loss: 6.8249e-05 - accuracy: 1.0000 - val_loss: 7.3169e-05 - val_accuracy: 1.0000\n",
      "Epoch 8/10\n",
      "609/610 [============================>.] - ETA: 0s - loss: 4.6779e-05 - accuracy: 1.0000INFO:tensorflow:Assets written to: models/fmaps-3/assets\n"
     ]
    },
    {
     "name": "stderr",
     "output_type": "stream",
     "text": [
      "INFO:tensorflow:Assets written to: models/fmaps-3/assets\n"
     ]
    },
    {
     "name": "stdout",
     "output_type": "stream",
     "text": [
      "610/610 [==============================] - 27s 45ms/step - loss: 4.6760e-05 - accuracy: 1.0000 - val_loss: 5.6487e-05 - val_accuracy: 1.0000\n",
      "Epoch 9/10\n",
      "609/610 [============================>.] - ETA: 0s - loss: 3.3787e-05 - accuracy: 1.0000INFO:tensorflow:Assets written to: models/fmaps-3/assets\n"
     ]
    },
    {
     "name": "stderr",
     "output_type": "stream",
     "text": [
      "INFO:tensorflow:Assets written to: models/fmaps-3/assets\n"
     ]
    },
    {
     "name": "stdout",
     "output_type": "stream",
     "text": [
      "610/610 [==============================] - 25s 40ms/step - loss: 3.3793e-05 - accuracy: 1.0000 - val_loss: 4.0846e-05 - val_accuracy: 1.0000\n",
      "Epoch 10/10\n",
      "609/610 [============================>.] - ETA: 0s - loss: 2.3813e-05 - accuracy: 1.0000INFO:tensorflow:Assets written to: models/fmaps-3/assets\n"
     ]
    },
    {
     "name": "stderr",
     "output_type": "stream",
     "text": [
      "INFO:tensorflow:Assets written to: models/fmaps-3/assets\n"
     ]
    },
    {
     "name": "stdout",
     "output_type": "stream",
     "text": [
      "610/610 [==============================] - 22s 36ms/step - loss: 2.3804e-05 - accuracy: 1.0000 - val_loss: 2.9857e-05 - val_accuracy: 1.0000\n"
     ]
    }
   ],
   "source": [
    "## Convolutional Filters\n",
    "\n",
    "# Our existing models come with three pairs of Convolutional layers followed by Pooling layers.\n",
    "\n",
    "n_tests = 3\n",
    "\n",
    "models = []\n",
    "early_stopping_cb = keras.callbacks.EarlyStopping(patience=5)\n",
    "\n",
    "\n",
    "for i in range(n_tests):\n",
    "    model = keras.models.Sequential()\n",
    "    models.append(model)\n",
    "    model.add(keras.layers.Input(shape=(28, 28, 1)))\n",
    "    for pairs in range(3):\n",
    "        model.add(keras.layers.Conv2D((8*(i+1))*(2**pairs), (5, 5), padding='same', activation='relu'))\n",
    "        model.add(keras.layers.MaxPooling2D(pool_size=(2, 2)))\n",
    "    model.add(keras.layers.Flatten())\n",
    "    model.add(keras.layers.Dense(128, activation='relu'))\n",
    "    model.add(keras.layers.Dense(24, activation='softmax'))\n",
    "    model.compile(loss='categorical_crossentropy', optimizer='adam', metrics=['accuracy'])\n",
    "    save_best_cb = keras.callbacks.ModelCheckpoint(f'models/fmaps-{i+1}', save_best_only=True)\n",
    "    history = model.fit(X_train, y_train, epochs=10, validation_data=(X_valid, y_valid), callbacks=[save_best_cb, early_stopping_cb])\n",
    "    with open(f'models/fmaps-{i+1}-history', 'wb') as history_file:\n",
    "        pickle.dump(history.history, history_file)"
   ]
  },
  {
   "cell_type": "code",
   "execution_count": 49,
   "id": "4c22de89",
   "metadata": {
    "scrolled": true
   },
   "outputs": [
    {
     "name": "stdout",
     "output_type": "stream",
     "text": [
      "Model: \"sequential_4\"\n",
      "_________________________________________________________________\n",
      " Layer (type)                Output Shape              Param #   \n",
      "=================================================================\n",
      " conv2d_9 (Conv2D)           (None, 28, 28, 8)         208       \n",
      "                                                                 \n",
      " max_pooling2d_9 (MaxPoolin  (None, 14, 14, 8)         0         \n",
      " g2D)                                                            \n",
      "                                                                 \n",
      " conv2d_10 (Conv2D)          (None, 14, 14, 16)        3216      \n",
      "                                                                 \n",
      " max_pooling2d_10 (MaxPooli  (None, 7, 7, 16)          0         \n",
      " ng2D)                                                           \n",
      "                                                                 \n",
      " conv2d_11 (Conv2D)          (None, 7, 7, 32)          12832     \n",
      "                                                                 \n",
      " max_pooling2d_11 (MaxPooli  (None, 3, 3, 32)          0         \n",
      " ng2D)                                                           \n",
      "                                                                 \n",
      " flatten_4 (Flatten)         (None, 288)               0         \n",
      "                                                                 \n",
      " dense_8 (Dense)             (None, 128)               36992     \n",
      "                                                                 \n",
      " dense_9 (Dense)             (None, 24)                3096      \n",
      "                                                                 \n",
      "=================================================================\n",
      "Total params: 56344 (220.09 KB)\n",
      "Trainable params: 56344 (220.09 KB)\n",
      "Non-trainable params: 0 (0.00 Byte)\n",
      "_________________________________________________________________\n"
     ]
    }
   ],
   "source": [
    "models[0].summary()"
   ]
  },
  {
   "cell_type": "code",
   "execution_count": 50,
   "id": "27f5faf6",
   "metadata": {
    "scrolled": true
   },
   "outputs": [
    {
     "name": "stdout",
     "output_type": "stream",
     "text": [
      "Model: \"sequential_5\"\n",
      "_________________________________________________________________\n",
      " Layer (type)                Output Shape              Param #   \n",
      "=================================================================\n",
      " conv2d_12 (Conv2D)          (None, 28, 28, 16)        416       \n",
      "                                                                 \n",
      " max_pooling2d_12 (MaxPooli  (None, 14, 14, 16)        0         \n",
      " ng2D)                                                           \n",
      "                                                                 \n",
      " conv2d_13 (Conv2D)          (None, 14, 14, 32)        12832     \n",
      "                                                                 \n",
      " max_pooling2d_13 (MaxPooli  (None, 7, 7, 32)          0         \n",
      " ng2D)                                                           \n",
      "                                                                 \n",
      " conv2d_14 (Conv2D)          (None, 7, 7, 64)          51264     \n",
      "                                                                 \n",
      " max_pooling2d_14 (MaxPooli  (None, 3, 3, 64)          0         \n",
      " ng2D)                                                           \n",
      "                                                                 \n",
      " flatten_5 (Flatten)         (None, 576)               0         \n",
      "                                                                 \n",
      " dense_10 (Dense)            (None, 128)               73856     \n",
      "                                                                 \n",
      " dense_11 (Dense)            (None, 24)                3096      \n",
      "                                                                 \n",
      "=================================================================\n",
      "Total params: 141464 (552.59 KB)\n",
      "Trainable params: 141464 (552.59 KB)\n",
      "Non-trainable params: 0 (0.00 Byte)\n",
      "_________________________________________________________________\n"
     ]
    }
   ],
   "source": [
    "models[1].summary()"
   ]
  },
  {
   "cell_type": "code",
   "execution_count": 51,
   "id": "89b7bbaf",
   "metadata": {
    "scrolled": true
   },
   "outputs": [
    {
     "name": "stdout",
     "output_type": "stream",
     "text": [
      "Model: \"sequential_6\"\n",
      "_________________________________________________________________\n",
      " Layer (type)                Output Shape              Param #   \n",
      "=================================================================\n",
      " conv2d_15 (Conv2D)          (None, 28, 28, 24)        624       \n",
      "                                                                 \n",
      " max_pooling2d_15 (MaxPooli  (None, 14, 14, 24)        0         \n",
      " ng2D)                                                           \n",
      "                                                                 \n",
      " conv2d_16 (Conv2D)          (None, 14, 14, 48)        28848     \n",
      "                                                                 \n",
      " max_pooling2d_16 (MaxPooli  (None, 7, 7, 48)          0         \n",
      " ng2D)                                                           \n",
      "                                                                 \n",
      " conv2d_17 (Conv2D)          (None, 7, 7, 96)          115296    \n",
      "                                                                 \n",
      " max_pooling2d_17 (MaxPooli  (None, 3, 3, 96)          0         \n",
      " ng2D)                                                           \n",
      "                                                                 \n",
      " flatten_6 (Flatten)         (None, 864)               0         \n",
      "                                                                 \n",
      " dense_12 (Dense)            (None, 128)               110720    \n",
      "                                                                 \n",
      " dense_13 (Dense)            (None, 24)                3096      \n",
      "                                                                 \n",
      "=================================================================\n",
      "Total params: 258584 (1010.09 KB)\n",
      "Trainable params: 258584 (1010.09 KB)\n",
      "Non-trainable params: 0 (0.00 Byte)\n",
      "_________________________________________________________________\n"
     ]
    }
   ],
   "source": [
    "models[2].summary()"
   ]
  },
  {
   "cell_type": "code",
   "execution_count": 52,
   "id": "d7b2bf2d",
   "metadata": {},
   "outputs": [
    {
     "name": "stdout",
     "output_type": "stream",
     "text": [
      "249/249 [==============================] - 1s 3ms/step - loss: 8.8976e-05 - accuracy: 1.0000\n",
      "249/249 [==============================] - 1s 4ms/step - loss: 5.4215e-05 - accuracy: 1.0000\n",
      "249/249 [==============================] - 2s 6ms/step - loss: 2.9857e-05 - accuracy: 1.0000\n"
     ]
    }
   ],
   "source": [
    "for index in range(n_tests):\n",
    "    model = keras.models.load_model(f'models/fmaps-{index+1}')\n",
    "    model.evaluate(X_valid, y_valid)"
   ]
  },
  {
   "cell_type": "code",
   "execution_count": 53,
   "id": "c6af5d12",
   "metadata": {},
   "outputs": [],
   "source": [
    "h_2_1 = np.load('models/fmaps-1-history', allow_pickle=True)\n",
    "h_2_2 = np.load('models/fmaps-2-history', allow_pickle=True)\n",
    "h_2_3 = np.load('models/fmaps-3-history', allow_pickle=True)"
   ]
  },
  {
   "cell_type": "code",
   "execution_count": 54,
   "id": "dac13522",
   "metadata": {
    "scrolled": true
   },
   "outputs": [
    {
     "data": {
      "image/png": "[encoded data removed]",
      "text/plain": [
       "<Figure size 1000x500 with 1 Axes>"
      ]
     },
     "metadata": {},
     "output_type": "display_data"
    },
    {
     "data": {
      "image/png": "[encoded data removed]",
      "text/plain": [
       "<Figure size 1000x500 with 1 Axes>"
      ]
     },
     "metadata": {},
     "output_type": "display_data"
    },
    {
     "data": {
      "image/png": "[encoded data removed]",
      "text/plain": [
       "<Figure size 1000x500 with 1 Axes>"
      ]
     },
     "metadata": {},
     "output_type": "display_data"
    }
   ],
   "source": [
    "get_train_val_plots(h_2_1, yticks=np.arange(0, 1.2, 0.1))\n",
    "get_train_val_plots(h_2_2, yticks=np.arange(0, 1.2, 0.1))\n",
    "get_train_val_plots(h_2_3, yticks=np.arange(0, 1.2, 0.1))"
   ]
  },
  {
   "cell_type": "markdown",
   "id": "74dc1a09",
   "metadata": {},
   "source": [
    "Choose Model 3"
   ]
  },
  {
   "cell_type": "code",
   "execution_count": 55,
   "id": "4ca42854",
   "metadata": {
    "scrolled": true
   },
   "outputs": [
    {
     "name": "stdout",
     "output_type": "stream",
     "text": [
      "Epoch 1/10\n",
      "608/610 [============================>.] - ETA: 0s - loss: 1.2148 - accuracy: 0.6258INFO:tensorflow:Assets written to: models/fiters-1/assets\n"
     ]
    },
    {
     "name": "stderr",
     "output_type": "stream",
     "text": [
      "INFO:tensorflow:Assets written to: models/fiters-1/assets\n"
     ]
    },
    {
     "name": "stdout",
     "output_type": "stream",
     "text": [
      "610/610 [==============================] - 12s 19ms/step - loss: 1.2125 - accuracy: 0.6266 - val_loss: 0.1850 - val_accuracy: 0.9527\n",
      "Epoch 2/10\n",
      "609/610 [============================>.] - ETA: 0s - loss: 0.0949 - accuracy: 0.9722INFO:tensorflow:Assets written to: models/fiters-1/assets\n"
     ]
    },
    {
     "name": "stderr",
     "output_type": "stream",
     "text": [
      "INFO:tensorflow:Assets written to: models/fiters-1/assets\n"
     ]
    },
    {
     "name": "stdout",
     "output_type": "stream",
     "text": [
      "610/610 [==============================] - 12s 19ms/step - loss: 0.0948 - accuracy: 0.9722 - val_loss: 0.0367 - val_accuracy: 0.9940\n",
      "Epoch 3/10\n",
      "609/610 [============================>.] - ETA: 0s - loss: 0.0130 - accuracy: 0.9982INFO:tensorflow:Assets written to: models/fiters-1/assets\n"
     ]
    },
    {
     "name": "stderr",
     "output_type": "stream",
     "text": [
      "INFO:tensorflow:Assets written to: models/fiters-1/assets\n"
     ]
    },
    {
     "name": "stdout",
     "output_type": "stream",
     "text": [
      "610/610 [==============================] - 12s 20ms/step - loss: 0.0130 - accuracy: 0.9982 - val_loss: 0.0088 - val_accuracy: 0.9990\n",
      "Epoch 4/10\n",
      "608/610 [============================>.] - ETA: 0s - loss: 0.0304 - accuracy: 0.9911INFO:tensorflow:Assets written to: models/fiters-1/assets\n"
     ]
    },
    {
     "name": "stderr",
     "output_type": "stream",
     "text": [
      "INFO:tensorflow:Assets written to: models/fiters-1/assets\n"
     ]
    },
    {
     "name": "stdout",
     "output_type": "stream",
     "text": [
      "610/610 [==============================] - 12s 20ms/step - loss: 0.0303 - accuracy: 0.9911 - val_loss: 0.0021 - val_accuracy: 1.0000\n",
      "Epoch 5/10\n",
      "607/610 [============================>.] - ETA: 0s - loss: 9.3638e-04 - accuracy: 1.0000INFO:tensorflow:Assets written to: models/fiters-1/assets\n"
     ]
    },
    {
     "name": "stderr",
     "output_type": "stream",
     "text": [
      "INFO:tensorflow:Assets written to: models/fiters-1/assets\n"
     ]
    },
    {
     "name": "stdout",
     "output_type": "stream",
     "text": [
      "610/610 [==============================] - 12s 20ms/step - loss: 9.3437e-04 - accuracy: 1.0000 - val_loss: 8.0691e-04 - val_accuracy: 1.0000\n",
      "Epoch 6/10\n",
      "607/610 [============================>.] - ETA: 0s - loss: 4.1300e-04 - accuracy: 1.0000INFO:tensorflow:Assets written to: models/fiters-1/assets\n"
     ]
    },
    {
     "name": "stderr",
     "output_type": "stream",
     "text": [
      "INFO:tensorflow:Assets written to: models/fiters-1/assets\n"
     ]
    },
    {
     "name": "stdout",
     "output_type": "stream",
     "text": [
      "610/610 [==============================] - 12s 20ms/step - loss: 4.1241e-04 - accuracy: 1.0000 - val_loss: 3.8994e-04 - val_accuracy: 1.0000\n",
      "Epoch 7/10\n",
      "607/610 [============================>.] - ETA: 0s - loss: 2.7189e-04 - accuracy: 1.0000INFO:tensorflow:Assets written to: models/fiters-1/assets\n"
     ]
    },
    {
     "name": "stderr",
     "output_type": "stream",
     "text": [
      "INFO:tensorflow:Assets written to: models/fiters-1/assets\n"
     ]
    },
    {
     "name": "stdout",
     "output_type": "stream",
     "text": [
      "610/610 [==============================] - 12s 20ms/step - loss: 2.7109e-04 - accuracy: 1.0000 - val_loss: 2.8105e-04 - val_accuracy: 1.0000\n",
      "Epoch 8/10\n",
      "609/610 [============================>.] - ETA: 0s - loss: 1.6003e-04 - accuracy: 1.0000INFO:tensorflow:Assets written to: models/fiters-1/assets\n"
     ]
    },
    {
     "name": "stderr",
     "output_type": "stream",
     "text": [
      "INFO:tensorflow:Assets written to: models/fiters-1/assets\n"
     ]
    },
    {
     "name": "stdout",
     "output_type": "stream",
     "text": [
      "610/610 [==============================] - 12s 20ms/step - loss: 1.6010e-04 - accuracy: 1.0000 - val_loss: 1.9509e-04 - val_accuracy: 1.0000\n",
      "Epoch 9/10\n",
      "608/610 [============================>.] - ETA: 0s - loss: 1.0770e-04 - accuracy: 1.0000INFO:tensorflow:Assets written to: models/fiters-1/assets\n"
     ]
    },
    {
     "name": "stderr",
     "output_type": "stream",
     "text": [
      "INFO:tensorflow:Assets written to: models/fiters-1/assets\n"
     ]
    },
    {
     "name": "stdout",
     "output_type": "stream",
     "text": [
      "610/610 [==============================] - 12s 19ms/step - loss: 1.0759e-04 - accuracy: 1.0000 - val_loss: 1.3126e-04 - val_accuracy: 1.0000\n",
      "Epoch 10/10\n",
      "609/610 [============================>.] - ETA: 0s - loss: 1.0596e-04 - accuracy: 1.0000INFO:tensorflow:Assets written to: models/fiters-1/assets\n"
     ]
    },
    {
     "name": "stderr",
     "output_type": "stream",
     "text": [
      "INFO:tensorflow:Assets written to: models/fiters-1/assets\n"
     ]
    },
    {
     "name": "stdout",
     "output_type": "stream",
     "text": [
      "610/610 [==============================] - 12s 20ms/step - loss: 1.0591e-04 - accuracy: 1.0000 - val_loss: 9.8483e-05 - val_accuracy: 1.0000\n"
     ]
    }
   ],
   "source": [
    "#Filter Size\n",
    "\n",
    "save_best_cb = keras.callbacks.ModelCheckpoint(f'models/fiters-1', save_best_only=True)\n",
    "early_stopping_cb = keras.callbacks.EarlyStopping(patience=5)\n",
    "\n",
    "model = keras.models.Sequential()\n",
    "model.add(keras.layers.Conv2D(24, (3, 3), padding='same', activation='relu'))\n",
    "model.add(keras.layers.MaxPooling2D(pool_size=(2, 2)))\n",
    "model.add(keras.layers.Conv2D(48, (3, 3), padding='same', activation='relu'))\n",
    "model.add(keras.layers.MaxPooling2D(pool_size=(2, 2)))\n",
    "model.add(keras.layers.Conv2D(96, (3, 3), padding='same', activation='relu'))\n",
    "model.add(keras.layers.MaxPooling2D(pool_size=(2, 2)))\n",
    "model.add(keras.layers.Flatten())\n",
    "model.add(keras.layers.Dense(128, activation='relu'))\n",
    "model.add(keras.layers.Dense(24, activation='softmax'))\n",
    "model.compile(loss='categorical_crossentropy', optimizer='adam', metrics=['accuracy'])\n",
    "history = model.fit(X_train, y_train, epochs=10, validation_data=(X_valid, y_valid), callbacks=[save_best_cb, early_stopping_cb])\n",
    "with open(f'models/filters_1_history', 'wb') as history_file:\n",
    "    pickle.dump(history.history, history_file)"
   ]
  },
  {
   "cell_type": "code",
   "execution_count": 57,
   "id": "816df03f",
   "metadata": {},
   "outputs": [
    {
     "name": "stdout",
     "output_type": "stream",
     "text": [
      "249/249 [==============================] - 1s 3ms/step - loss: 9.8483e-05 - accuracy: 1.0000\n"
     ]
    },
    {
     "data": {
      "text/plain": [
       "[9.848290937952697e-05, 1.0]"
      ]
     },
     "execution_count": 57,
     "metadata": {},
     "output_type": "execute_result"
    }
   ],
   "source": [
    "model = keras.models.load_model('models/fiters-1/')\n",
    "model.evaluate(X_valid, y_valid)"
   ]
  },
  {
   "cell_type": "code",
   "execution_count": 63,
   "id": "1163b70d",
   "metadata": {
    "scrolled": true
   },
   "outputs": [
    {
     "data": {
      "image/png": "[encoded data removed]",
      "text/plain": [
       "<Figure size 1000x500 with 1 Axes>"
      ]
     },
     "metadata": {},
     "output_type": "display_data"
    },
    {
     "data": {
      "image/png": "[encoded data removed]",
      "text/plain": [
       "<Figure size 1000x500 with 1 Axes>"
      ]
     },
     "metadata": {},
     "output_type": "display_data"
    }
   ],
   "source": [
    "h_2_3 = np.load('models/fmaps-3-history', allow_pickle=True)\n",
    "h = np.load('models/filters_1_history', allow_pickle=True)\n",
    "get_train_val_plots(h, yticks=np.arange(0, 1.2, 0.1))\n",
    "get_train_val_plots(h_2_3, yticks=np.arange(0, 1.2, 0.1))"
   ]
  },
  {
   "cell_type": "markdown",
   "id": "41197ef4",
   "metadata": {},
   "source": [
    "We opt to utilize filter dimensions of (5x5)."
   ]
  },
  {
   "cell_type": "code",
   "execution_count": 64,
   "id": "39ea34d6",
   "metadata": {},
   "outputs": [
    {
     "name": "stdout",
     "output_type": "stream",
     "text": [
      "Epoch 1/10\n",
      "609/610 [============================>.] - ETA: 0s - loss: 1.9034 - accuracy: 0.3942INFO:tensorflow:Assets written to: models/dropout_0/assets\n"
     ]
    },
    {
     "name": "stderr",
     "output_type": "stream",
     "text": [
      "INFO:tensorflow:Assets written to: models/dropout_0/assets\n"
     ]
    },
    {
     "name": "stdout",
     "output_type": "stream",
     "text": [
      "610/610 [==============================] - 22s 35ms/step - loss: 1.9025 - accuracy: 0.3945 - val_loss: 0.3811 - val_accuracy: 0.8716\n",
      "Epoch 2/10\n",
      "608/610 [============================>.] - ETA: 0s - loss: 0.4427 - accuracy: 0.8450INFO:tensorflow:Assets written to: models/dropout_0/assets\n"
     ]
    },
    {
     "name": "stderr",
     "output_type": "stream",
     "text": [
      "INFO:tensorflow:Assets written to: models/dropout_0/assets\n"
     ]
    },
    {
     "name": "stdout",
     "output_type": "stream",
     "text": [
      "610/610 [==============================] - 21s 35ms/step - loss: 0.4427 - accuracy: 0.8451 - val_loss: 0.0792 - val_accuracy: 0.9897\n",
      "Epoch 3/10\n",
      "609/610 [============================>.] - ETA: 0s - loss: 0.2161 - accuracy: 0.9239INFO:tensorflow:Assets written to: models/dropout_0/assets\n"
     ]
    },
    {
     "name": "stderr",
     "output_type": "stream",
     "text": [
      "INFO:tensorflow:Assets written to: models/dropout_0/assets\n"
     ]
    },
    {
     "name": "stdout",
     "output_type": "stream",
     "text": [
      "610/610 [==============================] - 22s 35ms/step - loss: 0.2163 - accuracy: 0.9238 - val_loss: 0.0217 - val_accuracy: 0.9962\n",
      "Epoch 4/10\n",
      "609/610 [============================>.] - ETA: 0s - loss: 0.1319 - accuracy: 0.9558INFO:tensorflow:Assets written to: models/dropout_0/assets\n"
     ]
    },
    {
     "name": "stderr",
     "output_type": "stream",
     "text": [
      "INFO:tensorflow:Assets written to: models/dropout_0/assets\n"
     ]
    },
    {
     "name": "stdout",
     "output_type": "stream",
     "text": [
      "610/610 [==============================] - 22s 35ms/step - loss: 0.1323 - accuracy: 0.9557 - val_loss: 0.0093 - val_accuracy: 0.9989\n",
      "Epoch 5/10\n",
      "609/610 [============================>.] - ETA: 0s - loss: 0.1000 - accuracy: 0.9668INFO:tensorflow:Assets written to: models/dropout_0/assets\n"
     ]
    },
    {
     "name": "stderr",
     "output_type": "stream",
     "text": [
      "INFO:tensorflow:Assets written to: models/dropout_0/assets\n"
     ]
    },
    {
     "name": "stdout",
     "output_type": "stream",
     "text": [
      "610/610 [==============================] - 22s 35ms/step - loss: 0.1000 - accuracy: 0.9668 - val_loss: 0.0027 - val_accuracy: 1.0000\n",
      "Epoch 6/10\n",
      "609/610 [============================>.] - ETA: 0s - loss: 0.0711 - accuracy: 0.9766INFO:tensorflow:Assets written to: models/dropout_0/assets\n"
     ]
    },
    {
     "name": "stderr",
     "output_type": "stream",
     "text": [
      "INFO:tensorflow:Assets written to: models/dropout_0/assets\n"
     ]
    },
    {
     "name": "stdout",
     "output_type": "stream",
     "text": [
      "610/610 [==============================] - 22s 35ms/step - loss: 0.0711 - accuracy: 0.9766 - val_loss: 0.0018 - val_accuracy: 1.0000\n",
      "Epoch 7/10\n",
      "608/610 [============================>.] - ETA: 0s - loss: 0.0716 - accuracy: 0.9763INFO:tensorflow:Assets written to: models/dropout_0/assets\n"
     ]
    },
    {
     "name": "stderr",
     "output_type": "stream",
     "text": [
      "INFO:tensorflow:Assets written to: models/dropout_0/assets\n"
     ]
    },
    {
     "name": "stdout",
     "output_type": "stream",
     "text": [
      "610/610 [==============================] - 21s 35ms/step - loss: 0.0714 - accuracy: 0.9764 - val_loss: 0.0010 - val_accuracy: 1.0000\n",
      "Epoch 8/10\n",
      "609/610 [============================>.] - ETA: 0s - loss: 0.0638 - accuracy: 0.9797INFO:tensorflow:Assets written to: models/dropout_0/assets\n"
     ]
    },
    {
     "name": "stderr",
     "output_type": "stream",
     "text": [
      "INFO:tensorflow:Assets written to: models/dropout_0/assets\n"
     ]
    },
    {
     "name": "stdout",
     "output_type": "stream",
     "text": [
      "610/610 [==============================] - 22s 37ms/step - loss: 0.0638 - accuracy: 0.9797 - val_loss: 8.7520e-04 - val_accuracy: 1.0000\n",
      "Epoch 9/10\n",
      "610/610 [==============================] - ETA: 0s - loss: 0.0495 - accuracy: 0.9842INFO:tensorflow:Assets written to: models/dropout_0/assets\n"
     ]
    },
    {
     "name": "stderr",
     "output_type": "stream",
     "text": [
      "INFO:tensorflow:Assets written to: models/dropout_0/assets\n"
     ]
    },
    {
     "name": "stdout",
     "output_type": "stream",
     "text": [
      "610/610 [==============================] - 26s 42ms/step - loss: 0.0495 - accuracy: 0.9842 - val_loss: 4.3478e-04 - val_accuracy: 1.0000\n",
      "Epoch 10/10\n",
      "610/610 [==============================] - 26s 43ms/step - loss: 0.0579 - accuracy: 0.9811 - val_loss: 9.7158e-04 - val_accuracy: 1.0000\n",
      "Epoch 1/10\n",
      "608/610 [============================>.] - ETA: 0s - loss: 2.4571 - accuracy: 0.2365INFO:tensorflow:Assets written to: models/dropout_1/assets\n"
     ]
    },
    {
     "name": "stderr",
     "output_type": "stream",
     "text": [
      "INFO:tensorflow:Assets written to: models/dropout_1/assets\n"
     ]
    },
    {
     "name": "stdout",
     "output_type": "stream",
     "text": [
      "610/610 [==============================] - 26s 41ms/step - loss: 2.4550 - accuracy: 0.2371 - val_loss: 0.8171 - val_accuracy: 0.7719\n",
      "Epoch 2/10\n",
      "609/610 [============================>.] - ETA: 0s - loss: 0.7472 - accuracy: 0.7392INFO:tensorflow:Assets written to: models/dropout_1/assets\n"
     ]
    },
    {
     "name": "stderr",
     "output_type": "stream",
     "text": [
      "INFO:tensorflow:Assets written to: models/dropout_1/assets\n"
     ]
    },
    {
     "name": "stdout",
     "output_type": "stream",
     "text": [
      "610/610 [==============================] - 22s 36ms/step - loss: 0.7472 - accuracy: 0.7392 - val_loss: 0.1521 - val_accuracy: 0.9686\n",
      "Epoch 3/10\n",
      "609/610 [============================>.] - ETA: 0s - loss: 0.3909 - accuracy: 0.8666INFO:tensorflow:Assets written to: models/dropout_1/assets\n"
     ]
    },
    {
     "name": "stderr",
     "output_type": "stream",
     "text": [
      "INFO:tensorflow:Assets written to: models/dropout_1/assets\n"
     ]
    },
    {
     "name": "stdout",
     "output_type": "stream",
     "text": [
      "610/610 [==============================] - 24s 40ms/step - loss: 0.3908 - accuracy: 0.8667 - val_loss: 0.0589 - val_accuracy: 0.9903\n",
      "Epoch 4/10\n",
      "609/610 [============================>.] - ETA: 0s - loss: 0.2494 - accuracy: 0.9133INFO:tensorflow:Assets written to: models/dropout_1/assets\n"
     ]
    },
    {
     "name": "stderr",
     "output_type": "stream",
     "text": [
      "INFO:tensorflow:Assets written to: models/dropout_1/assets\n"
     ]
    },
    {
     "name": "stdout",
     "output_type": "stream",
     "text": [
      "610/610 [==============================] - 27s 45ms/step - loss: 0.2495 - accuracy: 0.9133 - val_loss: 0.0208 - val_accuracy: 0.9976\n",
      "Epoch 5/10\n",
      "610/610 [==============================] - ETA: 0s - loss: 0.1886 - accuracy: 0.9377INFO:tensorflow:Assets written to: models/dropout_1/assets\n"
     ]
    },
    {
     "name": "stderr",
     "output_type": "stream",
     "text": [
      "INFO:tensorflow:Assets written to: models/dropout_1/assets\n"
     ]
    },
    {
     "name": "stdout",
     "output_type": "stream",
     "text": [
      "610/610 [==============================] - 26s 43ms/step - loss: 0.1886 - accuracy: 0.9377 - val_loss: 0.0125 - val_accuracy: 0.9997\n",
      "Epoch 6/10\n",
      "609/610 [============================>.] - ETA: 0s - loss: 0.1466 - accuracy: 0.9522INFO:tensorflow:Assets written to: models/dropout_1/assets\n"
     ]
    },
    {
     "name": "stderr",
     "output_type": "stream",
     "text": [
      "INFO:tensorflow:Assets written to: models/dropout_1/assets\n"
     ]
    },
    {
     "name": "stdout",
     "output_type": "stream",
     "text": [
      "610/610 [==============================] - 25s 41ms/step - loss: 0.1466 - accuracy: 0.9523 - val_loss: 0.0053 - val_accuracy: 0.9997\n",
      "Epoch 7/10\n",
      "609/610 [============================>.] - ETA: 0s - loss: 0.1287 - accuracy: 0.9556INFO:tensorflow:Assets written to: models/dropout_1/assets\n"
     ]
    },
    {
     "name": "stderr",
     "output_type": "stream",
     "text": [
      "INFO:tensorflow:Assets written to: models/dropout_1/assets\n"
     ]
    },
    {
     "name": "stdout",
     "output_type": "stream",
     "text": [
      "610/610 [==============================] - 24s 39ms/step - loss: 0.1286 - accuracy: 0.9556 - val_loss: 0.0025 - val_accuracy: 1.0000\n",
      "Epoch 8/10\n",
      "610/610 [==============================] - 23s 38ms/step - loss: 0.1050 - accuracy: 0.9646 - val_loss: 0.0044 - val_accuracy: 0.9999\n",
      "Epoch 9/10\n",
      "610/610 [==============================] - ETA: 0s - loss: 0.0893 - accuracy: 0.9704INFO:tensorflow:Assets written to: models/dropout_1/assets\n"
     ]
    },
    {
     "name": "stderr",
     "output_type": "stream",
     "text": [
      "INFO:tensorflow:Assets written to: models/dropout_1/assets\n"
     ]
    },
    {
     "name": "stdout",
     "output_type": "stream",
     "text": [
      "610/610 [==============================] - 24s 40ms/step - loss: 0.0893 - accuracy: 0.9704 - val_loss: 0.0011 - val_accuracy: 1.0000\n",
      "Epoch 10/10\n",
      "609/610 [============================>.] - ETA: 0s - loss: 0.0894 - accuracy: 0.9705INFO:tensorflow:Assets written to: models/dropout_1/assets\n"
     ]
    },
    {
     "name": "stderr",
     "output_type": "stream",
     "text": [
      "INFO:tensorflow:Assets written to: models/dropout_1/assets\n"
     ]
    },
    {
     "name": "stdout",
     "output_type": "stream",
     "text": [
      "610/610 [==============================] - 25s 41ms/step - loss: 0.0894 - accuracy: 0.9705 - val_loss: 4.2398e-04 - val_accuracy: 1.0000\n",
      "Epoch 1/10\n",
      "610/610 [==============================] - ETA: 0s - loss: 2.7284 - accuracy: 0.1628INFO:tensorflow:Assets written to: models/dropout_2/assets\n"
     ]
    },
    {
     "name": "stderr",
     "output_type": "stream",
     "text": [
      "INFO:tensorflow:Assets written to: models/dropout_2/assets\n"
     ]
    },
    {
     "name": "stdout",
     "output_type": "stream",
     "text": [
      "610/610 [==============================] - 25s 38ms/step - loss: 2.7284 - accuracy: 0.1628 - val_loss: 1.3679 - val_accuracy: 0.6398\n",
      "Epoch 2/10\n",
      "608/610 [============================>.] - ETA: 0s - loss: 1.2866 - accuracy: 0.5685INFO:tensorflow:Assets written to: models/dropout_2/assets\n"
     ]
    },
    {
     "name": "stderr",
     "output_type": "stream",
     "text": [
      "INFO:tensorflow:Assets written to: models/dropout_2/assets\n"
     ]
    },
    {
     "name": "stdout",
     "output_type": "stream",
     "text": [
      "610/610 [==============================] - 23s 37ms/step - loss: 1.2861 - accuracy: 0.5686 - val_loss: 0.4433 - val_accuracy: 0.9027\n",
      "Epoch 3/10\n",
      "609/610 [============================>.] - ETA: 0s - loss: 0.7434 - accuracy: 0.7396INFO:tensorflow:Assets written to: models/dropout_2/assets\n"
     ]
    },
    {
     "name": "stderr",
     "output_type": "stream",
     "text": [
      "INFO:tensorflow:Assets written to: models/dropout_2/assets\n"
     ]
    },
    {
     "name": "stdout",
     "output_type": "stream",
     "text": [
      "610/610 [==============================] - 25s 41ms/step - loss: 0.7435 - accuracy: 0.7395 - val_loss: 0.2058 - val_accuracy: 0.9684\n",
      "Epoch 4/10\n",
      "609/610 [============================>.] - ETA: 0s - loss: 0.5394 - accuracy: 0.8124INFO:tensorflow:Assets written to: models/dropout_2/assets\n"
     ]
    },
    {
     "name": "stderr",
     "output_type": "stream",
     "text": [
      "INFO:tensorflow:Assets written to: models/dropout_2/assets\n"
     ]
    },
    {
     "name": "stdout",
     "output_type": "stream",
     "text": [
      "610/610 [==============================] - 25s 41ms/step - loss: 0.5391 - accuracy: 0.8125 - val_loss: 0.1160 - val_accuracy: 0.9804\n",
      "Epoch 5/10\n",
      "609/610 [============================>.] - ETA: 0s - loss: 0.4251 - accuracy: 0.8536INFO:tensorflow:Assets written to: models/dropout_2/assets\n"
     ]
    },
    {
     "name": "stderr",
     "output_type": "stream",
     "text": [
      "INFO:tensorflow:Assets written to: models/dropout_2/assets\n"
     ]
    },
    {
     "name": "stdout",
     "output_type": "stream",
     "text": [
      "610/610 [==============================] - 23s 38ms/step - loss: 0.4250 - accuracy: 0.8535 - val_loss: 0.0718 - val_accuracy: 0.9897\n",
      "Epoch 6/10\n",
      "610/610 [==============================] - ETA: 0s - loss: 0.3442 - accuracy: 0.8798INFO:tensorflow:Assets written to: models/dropout_2/assets\n"
     ]
    },
    {
     "name": "stderr",
     "output_type": "stream",
     "text": [
      "INFO:tensorflow:Assets written to: models/dropout_2/assets\n"
     ]
    },
    {
     "name": "stdout",
     "output_type": "stream",
     "text": [
      "610/610 [==============================] - 22s 37ms/step - loss: 0.3442 - accuracy: 0.8798 - val_loss: 0.0557 - val_accuracy: 0.9932\n",
      "Epoch 7/10\n",
      "609/610 [============================>.] - ETA: 0s - loss: 0.3066 - accuracy: 0.8941INFO:tensorflow:Assets written to: models/dropout_2/assets\n"
     ]
    },
    {
     "name": "stderr",
     "output_type": "stream",
     "text": [
      "INFO:tensorflow:Assets written to: models/dropout_2/assets\n"
     ]
    },
    {
     "name": "stdout",
     "output_type": "stream",
     "text": [
      "610/610 [==============================] - 23s 38ms/step - loss: 0.3065 - accuracy: 0.8942 - val_loss: 0.0368 - val_accuracy: 0.9971\n",
      "Epoch 8/10\n",
      "609/610 [============================>.] - ETA: 0s - loss: 0.2774 - accuracy: 0.9075INFO:tensorflow:Assets written to: models/dropout_2/assets\n"
     ]
    },
    {
     "name": "stderr",
     "output_type": "stream",
     "text": [
      "INFO:tensorflow:Assets written to: models/dropout_2/assets\n"
     ]
    },
    {
     "name": "stdout",
     "output_type": "stream",
     "text": [
      "610/610 [==============================] - 22s 37ms/step - loss: 0.2774 - accuracy: 0.9075 - val_loss: 0.0250 - val_accuracy: 0.9972\n",
      "Epoch 9/10\n",
      "610/610 [==============================] - ETA: 0s - loss: 0.2423 - accuracy: 0.9196INFO:tensorflow:Assets written to: models/dropout_2/assets\n"
     ]
    },
    {
     "name": "stderr",
     "output_type": "stream",
     "text": [
      "INFO:tensorflow:Assets written to: models/dropout_2/assets\n"
     ]
    },
    {
     "name": "stdout",
     "output_type": "stream",
     "text": [
      "610/610 [==============================] - 23s 38ms/step - loss: 0.2423 - accuracy: 0.9196 - val_loss: 0.0138 - val_accuracy: 0.9991\n",
      "Epoch 10/10\n",
      "610/610 [==============================] - ETA: 0s - loss: 0.2119 - accuracy: 0.9269INFO:tensorflow:Assets written to: models/dropout_2/assets\n"
     ]
    },
    {
     "name": "stderr",
     "output_type": "stream",
     "text": [
      "INFO:tensorflow:Assets written to: models/dropout_2/assets\n"
     ]
    },
    {
     "name": "stdout",
     "output_type": "stream",
     "text": [
      "610/610 [==============================] - 23s 38ms/step - loss: 0.2119 - accuracy: 0.9269 - val_loss: 0.0077 - val_accuracy: 0.9999\n"
     ]
    }
   ],
   "source": [
    "# Dropout\n",
    "\n",
    "early_stopping_cb = keras.callbacks.EarlyStopping(patience=5)\n",
    "\n",
    "dropout_rates = [0.3, 0.4, 0.5]\n",
    "\n",
    "for index, i in enumerate(dropout_rates):\n",
    "    model = keras.models.Sequential()\n",
    "    model.add(keras.layers.Conv2D(24, (5, 5), padding='same', activation='relu'))\n",
    "    model.add(keras.layers.MaxPooling2D(pool_size=(2, 2)))\n",
    "    model.add(keras.layers.Dropout(i))\n",
    "    model.add(keras.layers.Conv2D(48, (5, 5), padding='same', activation='relu'))\n",
    "    model.add(keras.layers.MaxPooling2D(pool_size=(2, 2)))\n",
    "    model.add(keras.layers.Dropout(i))\n",
    "    model.add(keras.layers.Conv2D(96, (5, 5), padding='same', activation='relu'))\n",
    "    model.add(keras.layers.MaxPooling2D(pool_size=(2, 2)))\n",
    "    model.add(keras.layers.Dropout(i))\n",
    "    model.add(keras.layers.Flatten())\n",
    "    model.add(keras.layers.Dense(128, activation='relu'))\n",
    "    model.add(keras.layers.Dropout(i))\n",
    "    model.add(keras.layers.Dense(24, activation='softmax'))\n",
    "    model.compile(loss='categorical_crossentropy', optimizer='adam', metrics=['accuracy'])\n",
    "    save_best_cb = keras.callbacks.ModelCheckpoint(f'models/dropout_{index}', save_best_only=True)\n",
    "    history = model.fit(X_train, y_train, epochs=10, validation_data=(X_valid, y_valid), callbacks=[save_best_cb, early_stopping_cb])\n",
    "    with open(f'models/dropout_{index}_history', 'wb') as history_file:\n",
    "        pickle.dump(history.history, history_file)"
   ]
  },
  {
   "cell_type": "code",
   "execution_count": 66,
   "id": "97243155",
   "metadata": {},
   "outputs": [
    {
     "name": "stdout",
     "output_type": "stream",
     "text": [
      "249/249 [==============================] - 2s 5ms/step - loss: 4.3478e-04 - accuracy: 1.0000\n",
      "249/249 [==============================] - 1s 5ms/step - loss: 4.2398e-04 - accuracy: 1.0000\n",
      "249/249 [==============================] - 1s 5ms/step - loss: 0.0077 - accuracy: 0.9999\n"
     ]
    }
   ],
   "source": [
    "for index in range(3):\n",
    "    model = keras.models.load_model(f'models/dropout_{index}')\n",
    "    model.evaluate(X_valid, y_valid)"
   ]
  },
  {
   "cell_type": "code",
   "execution_count": 67,
   "id": "e3b5e4d1",
   "metadata": {
    "scrolled": true
   },
   "outputs": [
    {
     "data": {
      "image/png": "[encoded data removed]",
      "text/plain": [
       "<Figure size 1000x500 with 1 Axes>"
      ]
     },
     "metadata": {},
     "output_type": "display_data"
    },
    {
     "data": {
      "image/png": "[encoded data removed]",
      "text/plain": [
       "<Figure size 1000x500 with 1 Axes>"
      ]
     },
     "metadata": {},
     "output_type": "display_data"
    },
    {
     "data": {
      "image/png": "[encoded data removed]",
      "text/plain": [
       "<Figure size 1000x500 with 1 Axes>"
      ]
     },
     "metadata": {},
     "output_type": "display_data"
    }
   ],
   "source": [
    "h_0 = np.load('models/dropout_0_history', allow_pickle=True)\n",
    "h_1 = np.load('models/dropout_1_history', allow_pickle=True)\n",
    "h_2 = np.load('models/dropout_2_history', allow_pickle=True)\n",
    "\n",
    "get_train_val_plots(h_0)\n",
    "get_train_val_plots(h_1)\n",
    "get_train_val_plots(h_2)"
   ]
  },
  {
   "cell_type": "markdown",
   "id": "12fda6b1",
   "metadata": {},
   "source": [
    "Selecting the first model."
   ]
  },
  {
   "cell_type": "markdown",
   "id": "2a324af8",
   "metadata": {},
   "source": [
    " # 25%: Comparison of models, selection of the best two and reporting of final results"
   ]
  },
  {
   "cell_type": "code",
   "execution_count": 68,
   "id": "90fee9da",
   "metadata": {},
   "outputs": [],
   "source": [
    "test_df = pd.read_csv('sign_mnist_test.csv')\n",
    "X_test, y_test = test_df.drop('label', axis=1), test_df['label']"
   ]
  },
  {
   "cell_type": "code",
   "execution_count": 69,
   "id": "588e05b8",
   "metadata": {},
   "outputs": [],
   "source": [
    "best_model = keras.models.load_model('models/dropout_0/')"
   ]
  },
  {
   "cell_type": "code",
   "execution_count": 70,
   "id": "666818aa",
   "metadata": {},
   "outputs": [
    {
     "name": "stdout",
     "output_type": "stream",
     "text": [
      "225/225 [==============================] - 1s 5ms/step - loss: 19.0770 - accuracy: 0.9671\n",
      "Loss: 19.077 Accuracy: 0.967\n"
     ]
    }
   ],
   "source": [
    "evaluate_model(best_model, X_test, y_test, label_binarizer)"
   ]
  },
  {
   "cell_type": "markdown",
   "id": "a8090486",
   "metadata": {},
   "source": [
    "Accuracy: 96%"
   ]
  },
  {
   "cell_type": "code",
   "execution_count": 71,
   "id": "82643927",
   "metadata": {},
   "outputs": [],
   "source": [
    "test_df = pd.read_csv('sign_mnist_test.csv')\n",
    "X_test, y_test = test_df.drop('label', axis=1), test_df['label']"
   ]
  },
  {
   "cell_type": "code",
   "execution_count": 72,
   "id": "5d02d431",
   "metadata": {},
   "outputs": [],
   "source": [
    "# Applying normalisation which is applied for X_train\n",
    "X_test /= 255.0"
   ]
  },
  {
   "cell_type": "code",
   "execution_count": 73,
   "id": "7332b757",
   "metadata": {},
   "outputs": [],
   "source": [
    "best_model = keras.models.load_model('models/dropout_0/')"
   ]
  },
  {
   "cell_type": "code",
   "execution_count": 74,
   "id": "83bb851a",
   "metadata": {},
   "outputs": [
    {
     "name": "stdout",
     "output_type": "stream",
     "text": [
      "225/225 [==============================] - 1s 5ms/step - loss: 0.0982 - accuracy: 0.9677\n",
      "Loss: 0.098 Accuracy: 0.968\n"
     ]
    }
   ],
   "source": [
    "evaluate_model(best_model, X_test, y_test, label_binarizer)"
   ]
  },
  {
   "cell_type": "markdown",
   "id": "97e05057",
   "metadata": {},
   "source": [
    "Accuracy: 96%"
   ]
  }
 ],
 "metadata": {
  "kernelspec": {
   "display_name": "Python 3 (ipykernel)",
   "language": "python",
   "name": "python3"
  },
  "language_info": {
   "codemirror_mode": {
    "name": "ipython",
    "version": 3
   },
   "file_extension": ".py",
   "mimetype": "text/x-python",
   "name": "python",
   "nbconvert_exporter": "python",
   "pygments_lexer": "ipython3",
   "version": "3.11.4"
  }
 },
 "nbformat": 4,
 "nbformat_minor": 5
}
